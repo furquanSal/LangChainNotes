{
 "cells": [
  {
   "cell_type": "markdown",
   "id": "a1f10061-f341-44d9-9668-b58fd0e40ab0",
   "metadata": {},
   "source": [
    "# February 07, 2024 - Session Notes"
   ]
  },
  {
   "cell_type": "markdown",
   "id": "4906a73d",
   "metadata": {},
   "source": [
    "##### 1. Transform Chain\n",
    "A Transform chain in LangChain is a type of chain that applies a custom function to the input or output of a language model. A Transform chain can be used to pre-process, post-process, or modify the text in various ways, such as trimming spaces, extracting entities, or formatting responses.\n",
    "\n",
    "A Transform chain requires the following parameters:\n",
    "\n",
    "- `input_variables` : a list of keys expected by the transform function’s input dictionary.\n",
    "- `output_variables` : a list of keys returned by the transform function’s output dictionary.\n",
    "- `transform` : the transform function itself, which takes a dictionary as input and returns a dictionary as output."
   ]
  },
  {
   "cell_type": "code",
   "execution_count": 1,
   "id": "d7b272e2-643c-4902-bf3e-e4c46b0c76a5",
   "metadata": {},
   "outputs": [],
   "source": [
    "from langchain.chains import TransformChain, LLMChain, SimpleSequentialChain\n",
    "from langchain_google_genai import ChatGoogleGenerativeAI\n",
    "from langchain_core.prompts import ChatPromptTemplate"
   ]
  },
  {
   "cell_type": "code",
   "execution_count": 2,
   "id": "5847ad87-51b7-433a-969b-280796201910",
   "metadata": {},
   "outputs": [],
   "source": [
    "chat = ChatGoogleGenerativeAI(model=\"gemini-pro\")"
   ]
  },
  {
   "cell_type": "code",
   "execution_count": 3,
   "id": "4b2c2760-96b7-4bca-9148-980a70f2b3dc",
   "metadata": {},
   "outputs": [],
   "source": [
    "my_review = open(\"../sample_datasets/yelp_review.txt\").read()"
   ]
  },
  {
   "cell_type": "code",
   "execution_count": 4,
   "id": "d297abaf-b3c6-481b-b8bf-44d99ebf00e0",
   "metadata": {},
   "outputs": [],
   "source": [
    "only_review_text = my_review.split(\"REVIEW:\")[-1]"
   ]
  },
  {
   "cell_type": "code",
   "execution_count": 5,
   "id": "f8617c99-1d7d-4457-b5e9-ccc0907772e6",
   "metadata": {},
   "outputs": [
    {
     "name": "stdout",
     "output_type": "stream",
     "text": [
      "\n",
      "OH MY GOODNESS, WHERE DO I BEGIN? THIS RESTAURANT IS ABSOLUTELY PHENOMENAL! I WENT THERE LAST NIGHT WITH MY FRIENDS, AND WE WERE BLOWN AWAY BY THE EXPERIENCE!\n",
      "\n",
      "FIRST OF ALL, THE AMBIANCE IS OUT OF THIS WORLD! THE MOMENT YOU STEP INSIDE, YOU'RE GREETED WITH A WARM AND INVITING ATMOSPHERE. THE DECOR IS STUNNING, AND IT IMMEDIATELY SETS THE TONE FOR AN UNFORGETTABLE DINING EXPERIENCE.\n",
      "\n",
      "NOW, LET'S TALK ABOUT THE FOOD! WOW, JUST WOW! THE MENU IS A PARADISE FOR FOOD LOVERS. EVERY DISH WE ORDERED WAS A MASTERPIECE. THE FLAVORS WERE BOLD, VIBRANT, AND EXPLODED IN OUR MOUTHS. FROM STARTERS TO DESSERTS, EVERY BITE WAS PURE BLISS!\n",
      "\n",
      "THEIR SEAFOOD PLATTER IS A MUST-TRY! THE FRESHNESS OF THE SEAFOOD IS UNMATCHED, AND THE PRESENTATION IS SIMPLY STUNNING. I HAVE NEVER TASTED SUCH DELICIOUS AND PERFECTLY COOKED SEAFOOD IN MY LIFE. IT'S A SEAFOOD LOVER'S DREAM COME TRUE!\n",
      "\n",
      "THE SERVICE WAS EXEMPLARY. THE STAFF WAS ATTENTIVE, FRIENDLY, AND EXTREMELY KNOWLEDGEABLE ABOUT THE MENU. THEY WENT ABOVE AND BEYOND TO ENSURE THAT WE HAD THE BEST DINING EXPERIENCE POSSIBLE.\n",
      "\n",
      "AND LET'S NOT FORGET ABOUT THE DESSERTS! OH MY, OH MY! I HAD THEIR SIGNATURE CHOCOLATE LAVA CAKE, AND IT WAS PURE HEAVEN. THE CAKE WAS MOIST, AND WHEN I CUT INTO IT, THE WARM CHOCOLATE OOOZED OUT, CREATING AN EXPLOSION OF FLAVOR IN MY MOUTH. IT WAS LIKE A SYMPHONY OF CHOCOLATEY GOODNESS!\n",
      "\n",
      "IN CONCLUSION, THIS RESTAURANT IS A HIDDEN GEM! IF YOU WANT TO INDULGE IN A MEMORABLE DINING EXPERIENCE, DO YOURSELF A FAVOR AND VISIT THIS PLACE. YOU WON'T REGRET IT! I CAN'T WAIT TO GO BACK AND TRY MORE OF THEIR DELECTABLE DISHES. KUDOS TO THE ENTIRE TEAM FOR CREATING SUCH A CULINARY HAVEN!\n",
      "\n",
      "ALL I CAN SAY IS... WOOHOO!\n"
     ]
    }
   ],
   "source": [
    "print (only_review_text)"
   ]
  },
  {
   "cell_type": "code",
   "execution_count": 6,
   "id": "f3f8ec6a-4c0f-4d33-baa7-6f0eb19464a2",
   "metadata": {},
   "outputs": [],
   "source": [
    "def tranformer_func (inputs : dict) -> dict:\n",
    "    text = inputs[\"text\"]\n",
    "    only_review_text = text.split(\"REVIEW:\")[-1]\n",
    "    lower_case_text = only_review_text.lower()\n",
    "    return {\"output\":lower_case_text}"
   ]
  },
  {
   "cell_type": "code",
   "execution_count": 7,
   "id": "1aee2e55-8518-4e86-84e3-1f166490eb59",
   "metadata": {},
   "outputs": [],
   "source": [
    "transform_chain = TransformChain(\n",
    "    input_variables=['text'],\n",
    "    output_variables=['output'],\n",
    "    transform=tranformer_func\n",
    ")"
   ]
  },
  {
   "cell_type": "code",
   "execution_count": 8,
   "id": "7cd700a4-8775-4fe9-8499-ca6bd3264ee8",
   "metadata": {},
   "outputs": [],
   "source": [
    "template = \"Create a one sentence summary of this review. \\n {review_text}\"\n",
    "prompt = ChatPromptTemplate.from_template(template=template)"
   ]
  },
  {
   "cell_type": "code",
   "execution_count": 9,
   "id": "e64dd867-1686-496c-be79-740367b2d02f",
   "metadata": {},
   "outputs": [],
   "source": [
    "summary_chain = LLMChain(llm=chat, prompt=prompt, output_key=\"review_summary\")"
   ]
  },
  {
   "cell_type": "code",
   "execution_count": 10,
   "id": "ef3d14c2-9121-4ed6-8798-8962836fceb3",
   "metadata": {},
   "outputs": [],
   "source": [
    "chain = SimpleSequentialChain(chains=[transform_chain, summary_chain],verbose=True)"
   ]
  },
  {
   "cell_type": "code",
   "execution_count": 11,
   "id": "e2090277-2eac-4625-afff-9a79c9a849d9",
   "metadata": {},
   "outputs": [
    {
     "name": "stdout",
     "output_type": "stream",
     "text": [
      "\n",
      "\n",
      "\u001b[1m> Entering new SimpleSequentialChain chain...\u001b[0m\n"
     ]
    },
    {
     "name": "stdout",
     "output_type": "stream",
     "text": [
      "\u001b[36;1m\u001b[1;3m\n",
      "oh my goodness, where do i begin? this restaurant is absolutely phenomenal! i went there last night with my friends, and we were blown away by the experience!\n",
      "\n",
      "first of all, the ambiance is out of this world! the moment you step inside, you're greeted with a warm and inviting atmosphere. the decor is stunning, and it immediately sets the tone for an unforgettable dining experience.\n",
      "\n",
      "now, let's talk about the food! wow, just wow! the menu is a paradise for food lovers. every dish we ordered was a masterpiece. the flavors were bold, vibrant, and exploded in our mouths. from starters to desserts, every bite was pure bliss!\n",
      "\n",
      "their seafood platter is a must-try! the freshness of the seafood is unmatched, and the presentation is simply stunning. i have never tasted such delicious and perfectly cooked seafood in my life. it's a seafood lover's dream come true!\n",
      "\n",
      "the service was exemplary. the staff was attentive, friendly, and extremely knowledgeable about the menu. they went above and beyond to ensure that we had the best dining experience possible.\n",
      "\n",
      "and let's not forget about the desserts! oh my, oh my! i had their signature chocolate lava cake, and it was pure heaven. the cake was moist, and when i cut into it, the warm chocolate ooozed out, creating an explosion of flavor in my mouth. it was like a symphony of chocolatey goodness!\n",
      "\n",
      "in conclusion, this restaurant is a hidden gem! if you want to indulge in a memorable dining experience, do yourself a favor and visit this place. you won't regret it! i can't wait to go back and try more of their delectable dishes. kudos to the entire team for creating such a culinary haven!\n",
      "\n",
      "all i can say is... woohoo!\u001b[0m\n",
      "\u001b[33;1m\u001b[1;3mA reviewer raves about a restaurant's stunning ambiance, exceptional seafood dishes, attentive service, and delectable desserts, highly recommending it for a memorable dining experience.\u001b[0m\n",
      "\n",
      "\u001b[1m> Finished chain.\u001b[0m\n"
     ]
    }
   ],
   "source": [
    "result = chain.invoke({\"input\":my_review})"
   ]
  },
  {
   "cell_type": "code",
   "execution_count": 13,
   "id": "d199821c-1f3d-4581-a51e-5479d09f57b8",
   "metadata": {},
   "outputs": [
    {
     "name": "stdout",
     "output_type": "stream",
     "text": [
      "A reviewer raves about a restaurant's stunning ambiance, exceptional seafood dishes, attentive service, and delectable desserts, highly recommending it for a memorable dining experience.\n"
     ]
    }
   ],
   "source": [
    "print (result['output'])"
   ]
  },
  {
   "cell_type": "markdown",
   "id": "1cccdbb9",
   "metadata": {},
   "source": [
    "<<< End Of Document >>>"
   ]
  }
 ],
 "metadata": {
  "kernelspec": {
   "display_name": "Python 3 (ipykernel)",
   "language": "python",
   "name": "python3"
  },
  "language_info": {
   "codemirror_mode": {
    "name": "ipython",
    "version": 3
   },
   "file_extension": ".py",
   "mimetype": "text/x-python",
   "name": "python",
   "nbconvert_exporter": "python",
   "pygments_lexer": "ipython3",
   "version": "3.11.5"
  }
 },
 "nbformat": 4,
 "nbformat_minor": 5
}
