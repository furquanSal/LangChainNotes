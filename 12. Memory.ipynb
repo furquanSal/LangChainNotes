{
 "cells": [
  {
   "cell_type": "markdown",
   "metadata": {},
   "source": [
    "# February 09, 2024 - Session Notes"
   ]
  },
  {
   "cell_type": "markdown",
   "metadata": {},
   "source": [
    "##### Question - Answering Chain (cont'd)\n",
    "\n",
    "(d) - `ConversationalRetrievalChain`: This chain is used to maintain a conversational context across multiple turns of a conversation. It uses a vector store to retrieve relevant documents based on the current question, as well as the previous questions and answers in the conversation. This chain is useful for building conversational agents that can handle complex, multi-turn conversations."
   ]
  },
  {
   "cell_type": "code",
   "execution_count": 1,
   "metadata": {},
   "outputs": [
    {
     "name": "stderr",
     "output_type": "stream",
     "text": [
      "c:\\Users\\mfurq\\AppData\\Local\\Programs\\Python\\Python312\\Lib\\site-packages\\tqdm\\auto.py:21: TqdmWarning: IProgress not found. Please update jupyter and ipywidgets. See https://ipywidgets.readthedocs.io/en/stable/user_install.html\n",
      "  from .autonotebook import tqdm as notebook_tqdm\n"
     ]
    }
   ],
   "source": [
    "from langchain.memory import ConversationBufferMemory\n",
    "from langchain_google_genai import ChatGoogleGenerativeAI\n",
    "from langchain.chains import ConversationChain\n",
    "chat = ChatGoogleGenerativeAI(model='gemini-pro')\n",
    "buffermemory = ConversationBufferMemory() "
   ]
  },
  {
   "cell_type": "code",
   "execution_count": 2,
   "metadata": {},
   "outputs": [],
   "source": [
    "buffer_chain = ConversationChain(llm=chat, memory=buffermemory, verbose=True)"
   ]
  },
  {
   "cell_type": "code",
   "execution_count": 3,
   "metadata": {},
   "outputs": [
    {
     "name": "stdout",
     "output_type": "stream",
     "text": [
      "\n",
      "\n",
      "\u001b[1m> Entering new ConversationChain chain...\u001b[0m\n",
      "Prompt after formatting:\n",
      "\u001b[32;1m\u001b[1;3mThe following is a friendly conversation between a human and an AI. The AI is talkative and provides lots of specific details from its context. If the AI does not know the answer to a question, it truthfully says it does not know.\n",
      "\n",
      "Current conversation:\n",
      "\n",
      "Human: What is the speciality of Jantar Mantar\n",
      "AI:\u001b[0m\n",
      "\n",
      "\u001b[1m> Finished chain.\u001b[0m\n"
     ]
    },
    {
     "data": {
      "text/plain": [
       "{'input': 'What is the speciality of Jantar Mantar',\n",
       " 'history': '',\n",
       " 'response': \"Jantar Mantar is a collection of 19 architectural astronomical instruments, built by Maharaja Jai Singh II of Jaipur, the founder of Jaipur, between 1727 and 1734. It features the world's largest stone sundial, and is a UNESCO World Heritage site. The site consists of a large number of geometric devices for measuring time, tracking the location of stars, and predicting eclipses. It is also used to study the astronomical positions of various celestial bodies. Some of its key features include:\\n\\n* The Samrat Yantra: This is the world's largest stone sundial. It consists of a massive triangular structure that casts a shadow on a large platform, which is marked with hour lines. The shadow's movement indicates the time of day.\\n* The Jai Prakash Yantra: This is a large hemispherical bowl-shaped structure that is used to study the movement of the sun and other celestial bodies. It is also used to predict eclipses.\\n* The Ram Yantra: This is a cylindrical structure that is used to study the movement of the sun and other celestial bodies. It is also used to determine the time of day and the positions of various constellations.\\n\\nOverall, Jantar Mantar is a fascinating example of the scientific and astronomical knowledge of the 18th century. Its instruments are still used today to study the movement of celestial bodies and to predict astronomical events.\"}"
      ]
     },
     "execution_count": 3,
     "metadata": {},
     "output_type": "execute_result"
    }
   ],
   "source": [
    "buffer_chain.invoke(\"What is the speciality of Jantar Mantar\")"
   ]
  },
  {
   "cell_type": "code",
   "execution_count": 4,
   "metadata": {},
   "outputs": [
    {
     "name": "stdout",
     "output_type": "stream",
     "text": [
      "Human: What is the speciality of Jantar Mantar\n",
      "AI: Jantar Mantar is a collection of 19 architectural astronomical instruments, built by Maharaja Jai Singh II of Jaipur, the founder of Jaipur, between 1727 and 1734. It features the world's largest stone sundial, and is a UNESCO World Heritage site. The site consists of a large number of geometric devices for measuring time, tracking the location of stars, and predicting eclipses. It is also used to study the astronomical positions of various celestial bodies. Some of its key features include:\n",
      "\n",
      "* The Samrat Yantra: This is the world's largest stone sundial. It consists of a massive triangular structure that casts a shadow on a large platform, which is marked with hour lines. The shadow's movement indicates the time of day.\n",
      "* The Jai Prakash Yantra: This is a large hemispherical bowl-shaped structure that is used to study the movement of the sun and other celestial bodies. It is also used to predict eclipses.\n",
      "* The Ram Yantra: This is a cylindrical structure that is used to study the movement of the sun and other celestial bodies. It is also used to determine the time of day and the positions of various constellations.\n",
      "\n",
      "Overall, Jantar Mantar is a fascinating example of the scientific and astronomical knowledge of the 18th century. Its instruments are still used today to study the movement of celestial bodies and to predict astronomical events.\n"
     ]
    }
   ],
   "source": [
    "print(buffermemory.buffer)"
   ]
  },
  {
   "cell_type": "markdown",
   "metadata": {},
   "source": [
    "##### 1. Memory"
   ]
  },
  {
   "cell_type": "markdown",
   "metadata": {},
   "source": [
    "1 (a). ChatMessageHistory "
   ]
  },
  {
   "cell_type": "code",
   "execution_count": 5,
   "metadata": {},
   "outputs": [],
   "source": [
    "from langchain.memory import ChatMessageHistory\n",
    "memory = ChatMessageHistory() "
   ]
  },
  {
   "cell_type": "code",
   "execution_count": 6,
   "metadata": {},
   "outputs": [],
   "source": [
    "prompt = \"Who is the Prime Minister of India?\"\n",
    "result = chat.invoke(prompt)"
   ]
  },
  {
   "cell_type": "code",
   "execution_count": 7,
   "metadata": {},
   "outputs": [],
   "source": [
    "memory.add_user_message(prompt)\n",
    "memory.add_ai_message(result.content)"
   ]
  },
  {
   "cell_type": "code",
   "execution_count": 8,
   "metadata": {},
   "outputs": [],
   "source": [
    "prompt = \"What is the capital of India?\"\n",
    "result = chat.invoke(prompt)"
   ]
  },
  {
   "cell_type": "code",
   "execution_count": 9,
   "metadata": {},
   "outputs": [],
   "source": [
    "memory.add_user_message(prompt)\n",
    "memory.add_ai_message(result.content)"
   ]
  },
  {
   "cell_type": "code",
   "execution_count": 10,
   "metadata": {},
   "outputs": [
    {
     "name": "stdout",
     "output_type": "stream",
     "text": [
      "[HumanMessage(content='Who is the Prime Minister of India?'), AIMessage(content='Narendra Modi'), HumanMessage(content='What is the capital of India?'), AIMessage(content='New Delhi')]\n"
     ]
    }
   ],
   "source": [
    "print (memory.messages)"
   ]
  },
  {
   "cell_type": "code",
   "execution_count": 11,
   "metadata": {},
   "outputs": [],
   "source": [
    "prompt = \"What is the capital of UK?\"\n",
    "result = chat.invoke(prompt)"
   ]
  },
  {
   "cell_type": "code",
   "execution_count": 12,
   "metadata": {},
   "outputs": [],
   "source": [
    "memory.add_user_message(prompt)\n",
    "memory.add_ai_message(result.content)"
   ]
  },
  {
   "cell_type": "markdown",
   "metadata": {},
   "source": [
    "1 (b). Load data into file and get the information when required"
   ]
  },
  {
   "cell_type": "code",
   "execution_count": 13,
   "metadata": {},
   "outputs": [],
   "source": [
    "import pickle"
   ]
  },
  {
   "cell_type": "code",
   "execution_count": 14,
   "metadata": {},
   "outputs": [],
   "source": [
    "pickle_str = pickle.dumps(buffer_chain.memory)"
   ]
  },
  {
   "cell_type": "code",
   "execution_count": 15,
   "metadata": {},
   "outputs": [],
   "source": [
    "with open('my_memory_file.pkl','wb') as file:\n",
    "    file.write(pickle_str)\n",
    "    "
   ]
  },
  {
   "cell_type": "code",
   "execution_count": 16,
   "metadata": {},
   "outputs": [],
   "source": [
    "reload=open('my_memory_file.pkl','rb').read()"
   ]
  },
  {
   "cell_type": "code",
   "execution_count": 17,
   "metadata": {},
   "outputs": [],
   "source": [
    "reloaded_memory=pickle.loads(reload)"
   ]
  },
  {
   "cell_type": "code",
   "execution_count": 18,
   "metadata": {},
   "outputs": [],
   "source": [
    "new_buffer_chain = ConversationChain(llm=chat, memory=reloaded_memory, verbose=True)"
   ]
  },
  {
   "cell_type": "code",
   "execution_count": 19,
   "metadata": {},
   "outputs": [
    {
     "name": "stdout",
     "output_type": "stream",
     "text": [
      "\n",
      "\n",
      "\u001b[1m> Entering new ConversationChain chain...\u001b[0m\n",
      "Prompt after formatting:\n",
      "\u001b[32;1m\u001b[1;3mThe following is a friendly conversation between a human and an AI. The AI is talkative and provides lots of specific details from its context. If the AI does not know the answer to a question, it truthfully says it does not know.\n",
      "\n",
      "Current conversation:\n",
      "Human: What is the speciality of Jantar Mantar\n",
      "AI: Jantar Mantar is a collection of 19 architectural astronomical instruments, built by Maharaja Jai Singh II of Jaipur, the founder of Jaipur, between 1727 and 1734. It features the world's largest stone sundial, and is a UNESCO World Heritage site. The site consists of a large number of geometric devices for measuring time, tracking the location of stars, and predicting eclipses. It is also used to study the astronomical positions of various celestial bodies. Some of its key features include:\n",
      "\n",
      "* The Samrat Yantra: This is the world's largest stone sundial. It consists of a massive triangular structure that casts a shadow on a large platform, which is marked with hour lines. The shadow's movement indicates the time of day.\n",
      "* The Jai Prakash Yantra: This is a large hemispherical bowl-shaped structure that is used to study the movement of the sun and other celestial bodies. It is also used to predict eclipses.\n",
      "* The Ram Yantra: This is a cylindrical structure that is used to study the movement of the sun and other celestial bodies. It is also used to determine the time of day and the positions of various constellations.\n",
      "\n",
      "Overall, Jantar Mantar is a fascinating example of the scientific and astronomical knowledge of the 18th century. Its instruments are still used today to study the movement of celestial bodies and to predict astronomical events.\n",
      "Human: What is my name?\n",
      "AI:\u001b[0m\n",
      "\n",
      "\u001b[1m> Finished chain.\u001b[0m\n"
     ]
    },
    {
     "data": {
      "text/plain": [
       "{'input': 'What is my name?',\n",
       " 'history': \"Human: What is the speciality of Jantar Mantar\\nAI: Jantar Mantar is a collection of 19 architectural astronomical instruments, built by Maharaja Jai Singh II of Jaipur, the founder of Jaipur, between 1727 and 1734. It features the world's largest stone sundial, and is a UNESCO World Heritage site. The site consists of a large number of geometric devices for measuring time, tracking the location of stars, and predicting eclipses. It is also used to study the astronomical positions of various celestial bodies. Some of its key features include:\\n\\n* The Samrat Yantra: This is the world's largest stone sundial. It consists of a massive triangular structure that casts a shadow on a large platform, which is marked with hour lines. The shadow's movement indicates the time of day.\\n* The Jai Prakash Yantra: This is a large hemispherical bowl-shaped structure that is used to study the movement of the sun and other celestial bodies. It is also used to predict eclipses.\\n* The Ram Yantra: This is a cylindrical structure that is used to study the movement of the sun and other celestial bodies. It is also used to determine the time of day and the positions of various constellations.\\n\\nOverall, Jantar Mantar is a fascinating example of the scientific and astronomical knowledge of the 18th century. Its instruments are still used today to study the movement of celestial bodies and to predict astronomical events.\",\n",
       " 'response': 'I do not have access to personal information, and therefore I cannot answer this question.'}"
      ]
     },
     "execution_count": 19,
     "metadata": {},
     "output_type": "execute_result"
    }
   ],
   "source": [
    "new_buffer_chain.invoke(\"What is my name?\")"
   ]
  },
  {
   "cell_type": "code",
   "execution_count": 20,
   "metadata": {},
   "outputs": [],
   "source": [
    "buffermemory.save_context(\n",
    "    {\"input\":\"My name is Khan\"},\n",
    "    {\"output\":\"Great! Nice to meet you Khan\"}\n",
    ")"
   ]
  },
  {
   "cell_type": "markdown",
   "metadata": {},
   "source": [
    "1 (c). ConversationBufferWindowMemory"
   ]
  },
  {
   "cell_type": "code",
   "execution_count": 21,
   "metadata": {},
   "outputs": [],
   "source": [
    "from langchain.memory import ConversationBufferWindowMemory"
   ]
  },
  {
   "cell_type": "code",
   "execution_count": 22,
   "metadata": {},
   "outputs": [],
   "source": [
    "buffer_window_memory = ConversationBufferWindowMemory(k=3)"
   ]
  },
  {
   "cell_type": "code",
   "execution_count": 23,
   "metadata": {},
   "outputs": [],
   "source": [
    "buffer_window_chain = ConversationChain(llm=chat, memory=buffer_window_memory)"
   ]
  },
  {
   "cell_type": "code",
   "execution_count": 24,
   "metadata": {},
   "outputs": [
    {
     "data": {
      "text/plain": [
       "{'input': 'Who is the Prime Minister of India?',\n",
       " 'history': '',\n",
       " 'response': 'Narendra Modi.'}"
      ]
     },
     "execution_count": 24,
     "metadata": {},
     "output_type": "execute_result"
    }
   ],
   "source": [
    "buffer_window_chain.invoke(\"Who is the Prime Minister of India?\")"
   ]
  },
  {
   "cell_type": "code",
   "execution_count": 25,
   "metadata": {},
   "outputs": [
    {
     "data": {
      "text/plain": [
       "{'input': 'What is the capital of India?',\n",
       " 'history': 'Human: Who is the Prime Minister of India?\\nAI: Narendra Modi.',\n",
       " 'response': 'New Delhi'}"
      ]
     },
     "execution_count": 25,
     "metadata": {},
     "output_type": "execute_result"
    }
   ],
   "source": [
    "buffer_window_chain.invoke(\"What is the capital of India?\")"
   ]
  },
  {
   "cell_type": "code",
   "execution_count": 26,
   "metadata": {},
   "outputs": [
    {
     "data": {
      "text/plain": [
       "{'input': 'How many states are there in India?',\n",
       " 'history': 'Human: Who is the Prime Minister of India?\\nAI: Narendra Modi.\\nHuman: What is the capital of India?\\nAI: New Delhi',\n",
       " 'response': '28'}"
      ]
     },
     "execution_count": 26,
     "metadata": {},
     "output_type": "execute_result"
    }
   ],
   "source": [
    "buffer_window_chain.invoke(\"How many states are there in India?\")"
   ]
  },
  {
   "cell_type": "code",
   "execution_count": 27,
   "metadata": {},
   "outputs": [
    {
     "name": "stdout",
     "output_type": "stream",
     "text": [
      "Human: Who is the Prime Minister of India?\n",
      "AI: Narendra Modi.\n",
      "Human: What is the capital of India?\n",
      "AI: New Delhi\n",
      "Human: How many states are there in India?\n",
      "AI: 28\n"
     ]
    }
   ],
   "source": [
    "print (buffer_window_memory.buffer)"
   ]
  },
  {
   "cell_type": "markdown",
   "metadata": {},
   "source": [
    "1 (d). ConversationSummaryMemory"
   ]
  },
  {
   "cell_type": "code",
   "execution_count": 28,
   "metadata": {},
   "outputs": [],
   "source": [
    "from langchain.memory import ConversationSummaryMemory\n",
    "summary_memory = ConversationSummaryMemory(llm=chat)"
   ]
  },
  {
   "cell_type": "code",
   "execution_count": 29,
   "metadata": {},
   "outputs": [],
   "source": [
    "summary_chain = ConversationChain(llm=chat, memory=summary_memory)"
   ]
  },
  {
   "cell_type": "code",
   "execution_count": 30,
   "metadata": {},
   "outputs": [
    {
     "data": {
      "text/plain": [
       "{'input': 'Who is the Prime Minister of India?',\n",
       " 'history': '',\n",
       " 'response': 'Narendra Modi'}"
      ]
     },
     "execution_count": 30,
     "metadata": {},
     "output_type": "execute_result"
    }
   ],
   "source": [
    "summary_chain.invoke(\"Who is the Prime Minister of India?\")"
   ]
  },
  {
   "cell_type": "code",
   "execution_count": 31,
   "metadata": {},
   "outputs": [
    {
     "data": {
      "text/plain": [
       "{'input': 'What is the capital of India?',\n",
       " 'history': 'The Prime Minister of India is Narendra Modi.',\n",
       " 'response': 'New Delhi'}"
      ]
     },
     "execution_count": 31,
     "metadata": {},
     "output_type": "execute_result"
    }
   ],
   "source": [
    "summary_chain.invoke(\"What is the capital of India?\")"
   ]
  },
  {
   "cell_type": "code",
   "execution_count": 32,
   "metadata": {},
   "outputs": [
    {
     "data": {
      "text/plain": [
       "{'input': 'How many states are there in India?',\n",
       " 'history': 'The Prime Minister of India is Narendra Modi and the capital city is New Delhi.',\n",
       " 'response': '28'}"
      ]
     },
     "execution_count": 32,
     "metadata": {},
     "output_type": "execute_result"
    }
   ],
   "source": [
    "summary_chain.invoke(\"How many states are there in India?\")"
   ]
  },
  {
   "cell_type": "code",
   "execution_count": 33,
   "metadata": {},
   "outputs": [
    {
     "name": "stdout",
     "output_type": "stream",
     "text": [
      "The Prime Minister of India is Narendra Modi, the capital city is New Delhi, and there are 28 states in India.\n"
     ]
    }
   ],
   "source": [
    "print(summary_memory.buffer)"
   ]
  },
  {
   "cell_type": "markdown",
   "metadata": {},
   "source": [
    "1 (e). ConversationSummaryBufferMemory"
   ]
  },
  {
   "cell_type": "code",
   "execution_count": 34,
   "metadata": {},
   "outputs": [],
   "source": [
    "from langchain.memory import ConversationSummaryBufferMemory\n",
    "summary_buffer_memory = ConversationSummaryBufferMemory(llm=chat, max_token_limit=750)"
   ]
  },
  {
   "cell_type": "code",
   "execution_count": 35,
   "metadata": {},
   "outputs": [],
   "source": [
    "summary_buffer_chain = ConversationChain(llm=chat, memory=summary_buffer_memory)"
   ]
  },
  {
   "cell_type": "code",
   "execution_count": 36,
   "metadata": {},
   "outputs": [
    {
     "data": {
      "text/plain": [
       "{'input': 'Who is the Prime Minister of India?',\n",
       " 'history': '',\n",
       " 'response': 'Narendra Modi.'}"
      ]
     },
     "execution_count": 36,
     "metadata": {},
     "output_type": "execute_result"
    }
   ],
   "source": [
    "summary_buffer_chain.invoke(\"Who is the Prime Minister of India?\")"
   ]
  },
  {
   "cell_type": "code",
   "execution_count": 37,
   "metadata": {},
   "outputs": [
    {
     "data": {
      "text/plain": [
       "{'input': 'What is the capital of India?',\n",
       " 'history': 'Human: Who is the Prime Minister of India?\\nAI: Narendra Modi.',\n",
       " 'response': 'New Delhi.'}"
      ]
     },
     "execution_count": 37,
     "metadata": {},
     "output_type": "execute_result"
    }
   ],
   "source": [
    "summary_buffer_chain.invoke(\"What is the capital of India?\")"
   ]
  },
  {
   "cell_type": "code",
   "execution_count": 38,
   "metadata": {},
   "outputs": [
    {
     "data": {
      "text/plain": [
       "{'input': 'Tell me interesting facts about Qutub Minar',\n",
       " 'history': 'Human: Who is the Prime Minister of India?\\nAI: Narendra Modi.\\nHuman: What is the capital of India?\\nAI: New Delhi.',\n",
       " 'response': '* Qutub Minar is the tallest minaret in India and a UNESCO World Heritage Site.\\n* It is located in Delhi, the capital of India.\\n* The tower was built in the 12th century by Qutb-ud-din Aibak, the first Sultan of Delhi, to commemorate his victory over the last Hindu kingdom in Delhi.\\n* The tower is 72.5 meters (238 feet) high and has five distinct stories, each with a different design.\\n* The first story is made of red sandstone, the second and third stories are made of buff-colored sandstone, and the fourth and fifth stories are made of marble.\\n* The tower is decorated with intricate carvings and inscriptions from the Quran.\\n* The tower has been damaged by earthquakes and lightning strikes over the centuries, but it has been repaired and restored several times.\\n* Qutub Minar is a popular tourist destination and is visited by millions of people each year.\\n* The tower is also used as a venue for cultural events and festivals.'}"
      ]
     },
     "execution_count": 38,
     "metadata": {},
     "output_type": "execute_result"
    }
   ],
   "source": [
    "summary_buffer_chain.invoke(\"Tell me interesting facts about Qutub Minar\")"
   ]
  },
  {
   "cell_type": "code",
   "execution_count": 39,
   "metadata": {},
   "outputs": [
    {
     "name": "stdout",
     "output_type": "stream",
     "text": [
      "[HumanMessage(content='Who is the Prime Minister of India?'), AIMessage(content='Narendra Modi.'), HumanMessage(content='What is the capital of India?'), AIMessage(content='New Delhi.'), HumanMessage(content='Tell me interesting facts about Qutub Minar'), AIMessage(content='* Qutub Minar is the tallest minaret in India and a UNESCO World Heritage Site.\\n* It is located in Delhi, the capital of India.\\n* The tower was built in the 12th century by Qutb-ud-din Aibak, the first Sultan of Delhi, to commemorate his victory over the last Hindu kingdom in Delhi.\\n* The tower is 72.5 meters (238 feet) high and has five distinct stories, each with a different design.\\n* The first story is made of red sandstone, the second and third stories are made of buff-colored sandstone, and the fourth and fifth stories are made of marble.\\n* The tower is decorated with intricate carvings and inscriptions from the Quran.\\n* The tower has been damaged by earthquakes and lightning strikes over the centuries, but it has been repaired and restored several times.\\n* Qutub Minar is a popular tourist destination and is visited by millions of people each year.\\n* The tower is also used as a venue for cultural events and festivals.')]\n"
     ]
    }
   ],
   "source": [
    "print(summary_buffer_memory.buffer)"
   ]
  },
  {
   "cell_type": "markdown",
   "metadata": {},
   "source": [
    "1 (f). ConversationEntityMemory"
   ]
  },
  {
   "cell_type": "code",
   "execution_count": 41,
   "metadata": {},
   "outputs": [],
   "source": [
    "from langchain.memory import ConversationEntityMemory\n",
    "entitymemory = ConversationEntityMemory(llm=chat)"
   ]
  },
  {
   "cell_type": "code",
   "execution_count": 42,
   "metadata": {},
   "outputs": [],
   "source": [
    "from langchain.memory.prompt import ENTITY_MEMORY_CONVERSATION_TEMPLATE"
   ]
  },
  {
   "cell_type": "code",
   "execution_count": 44,
   "metadata": {},
   "outputs": [],
   "source": [
    "entity_chain = ConversationChain(llm=chat, memory=entitymemory, prompt=ENTITY_MEMORY_CONVERSATION_TEMPLATE)"
   ]
  },
  {
   "cell_type": "code",
   "execution_count": 45,
   "metadata": {},
   "outputs": [
    {
     "data": {
      "text/plain": [
       "{'input': '\\nSukumar helped Allu Arjun to become a star hero.\\nAllu Arjun also received national award for actor in the leading role, male.\\n',\n",
       " 'history': '',\n",
       " 'entities': {'Sukumar': '', 'Allu Arjun': ''},\n",
       " 'response': 'Indeed, Sukumar has played a pivotal role in Allu Arjun\\'s rise to stardom. The duo has collaborated on several blockbuster films, including \"Arya,\" \"Arya 2,\" and \"Pushpa: The Rise.\" Sukumar\\'s directorial vision and storytelling prowess have perfectly complemented Allu Arjun\\'s energetic and expressive acting style, resulting in films that have captivated audiences and critics alike.\\n\\nAllu Arjun\\'s performance in \"Pushpa: The Rise\" was particularly noteworthy, earning him critical acclaim and widespread recognition. His portrayal of the titular character, Pushpa Raj, was nuanced and layered, showcasing his range as an actor. The film\\'s success and Allu Arjun\\'s subsequent National Award for Best Actor in the Leading Role, Male, further cemented his status as a leading star in Indian cinema.\\n\\nIt is evident that Sukumar and Allu Arjun have a strong creative partnership, and their collaboration has produced some of the most memorable and successful films in recent Telugu cinema. The duo\\'s upcoming film, \"Pushpa: The Rule,\" is highly anticipated and is expected to continue their winning streak.'}"
      ]
     },
     "execution_count": 45,
     "metadata": {},
     "output_type": "execute_result"
    }
   ],
   "source": [
    "entity_chain.invoke (\"\"\"\n",
    "Sukumar helped Allu Arjun to become a star hero.\n",
    "Allu Arjun also received national award for actor in the leading role, male.\n",
    "\"\"\")"
   ]
  },
  {
   "cell_type": "code",
   "execution_count": 46,
   "metadata": {},
   "outputs": [
    {
     "data": {
      "text/plain": [
       "{'input': '\\nAll Arjun lives with wife and two young children.\\nSukumar and Allu Arjun joined together again for their sequel to Pusha\\n',\n",
       " 'history': 'Human: \\nSukumar helped Allu Arjun to become a star hero.\\nAllu Arjun also received national award for actor in the leading role, male.\\n\\nAI: Indeed, Sukumar has played a pivotal role in Allu Arjun\\'s rise to stardom. The duo has collaborated on several blockbuster films, including \"Arya,\" \"Arya 2,\" and \"Pushpa: The Rise.\" Sukumar\\'s directorial vision and storytelling prowess have perfectly complemented Allu Arjun\\'s energetic and expressive acting style, resulting in films that have captivated audiences and critics alike.\\n\\nAllu Arjun\\'s performance in \"Pushpa: The Rise\" was particularly noteworthy, earning him critical acclaim and widespread recognition. His portrayal of the titular character, Pushpa Raj, was nuanced and layered, showcasing his range as an actor. The film\\'s success and Allu Arjun\\'s subsequent National Award for Best Actor in the Leading Role, Male, further cemented his status as a leading star in Indian cinema.\\n\\nIt is evident that Sukumar and Allu Arjun have a strong creative partnership, and their collaboration has produced some of the most memorable and successful films in recent Telugu cinema. The duo\\'s upcoming film, \"Pushpa: The Rule,\" is highly anticipated and is expected to continue their winning streak.',\n",
       " 'entities': {'Allu Arjun': 'Allu Arjun, with the help of director Sukumar, has risen to stardom in Telugu cinema and won a National Award for Best Actor in the Leading Role, Male, for his performance in \"Pushpa: The Rise.\"',\n",
       "  'Pusha': ''},\n",
       " 'response': 'Allu Arjun, along with his wife and two young children, resides in Hyderabad, India. He leads a private life, valuing his family and maintaining a close circle of friends. Allu Arjun is known for his dedication to his craft and his commitment to delivering powerful performances on screen.\\n\\nThe sequel to \"Pushpa: The Rise,\" titled \"Pushpa: The Rule,\" marks the reunion of Allu Arjun and Sukumar. The highly anticipated film is currently in production and is expected to surpass the success of its predecessor. With Sukumar\\'s directorial expertise and Allu Arjun\\'s captivating acting, the sequel promises to deliver an even more thrilling and immersive experience for audiences worldwide.\\n\\nAllu Arjun\\'s family undoubtedly plays a significant role in his life, providing him with a strong support system and a sense of balance amidst his demanding career. As he continues to achieve new heights in the film industry, his dedication to his craft and his commitment to his family remain unwavering.'}"
      ]
     },
     "execution_count": 46,
     "metadata": {},
     "output_type": "execute_result"
    }
   ],
   "source": [
    "entity_chain.invoke (\"\"\"\n",
    "All Arjun lives with wife and two young children.\n",
    "Sukumar and Allu Arjun joined together again for their sequel to Pusha\n",
    "\"\"\")"
   ]
  },
  {
   "cell_type": "code",
   "execution_count": 47,
   "metadata": {},
   "outputs": [
    {
     "name": "stdout",
     "output_type": "stream",
     "text": [
      "[HumanMessage(content='\\nSukumar helped Allu Arjun to become a star hero.\\nAllu Arjun also received national award for actor in the leading role, male.\\n'), AIMessage(content='Indeed, Sukumar has played a pivotal role in Allu Arjun\\'s rise to stardom. The duo has collaborated on several blockbuster films, including \"Arya,\" \"Arya 2,\" and \"Pushpa: The Rise.\" Sukumar\\'s directorial vision and storytelling prowess have perfectly complemented Allu Arjun\\'s energetic and expressive acting style, resulting in films that have captivated audiences and critics alike.\\n\\nAllu Arjun\\'s performance in \"Pushpa: The Rise\" was particularly noteworthy, earning him critical acclaim and widespread recognition. His portrayal of the titular character, Pushpa Raj, was nuanced and layered, showcasing his range as an actor. The film\\'s success and Allu Arjun\\'s subsequent National Award for Best Actor in the Leading Role, Male, further cemented his status as a leading star in Indian cinema.\\n\\nIt is evident that Sukumar and Allu Arjun have a strong creative partnership, and their collaboration has produced some of the most memorable and successful films in recent Telugu cinema. The duo\\'s upcoming film, \"Pushpa: The Rule,\" is highly anticipated and is expected to continue their winning streak.'), HumanMessage(content='\\nAll Arjun lives with wife and two young children.\\nSukumar and Allu Arjun joined together again for their sequel to Pusha\\n'), AIMessage(content='Allu Arjun, along with his wife and two young children, resides in Hyderabad, India. He leads a private life, valuing his family and maintaining a close circle of friends. Allu Arjun is known for his dedication to his craft and his commitment to delivering powerful performances on screen.\\n\\nThe sequel to \"Pushpa: The Rise,\" titled \"Pushpa: The Rule,\" marks the reunion of Allu Arjun and Sukumar. The highly anticipated film is currently in production and is expected to surpass the success of its predecessor. With Sukumar\\'s directorial expertise and Allu Arjun\\'s captivating acting, the sequel promises to deliver an even more thrilling and immersive experience for audiences worldwide.\\n\\nAllu Arjun\\'s family undoubtedly plays a significant role in his life, providing him with a strong support system and a sense of balance amidst his demanding career. As he continues to achieve new heights in the film industry, his dedication to his craft and his commitment to his family remain unwavering.')]\n"
     ]
    }
   ],
   "source": [
    "print(entitymemory.buffer)"
   ]
  },
  {
   "cell_type": "code",
   "execution_count": 48,
   "metadata": {},
   "outputs": [
    {
     "name": "stdout",
     "output_type": "stream",
     "text": [
      "{'Sukumar': 'Sukumar, a pivotal figure in Allu Arjun\\'s rise to stardom, directed films that captured audiences and critics, leading to Arjun\\'s National Award for Best Actor in the Leading Role, Male for his performance in \"Pushpa: The Rise.\"', 'Allu Arjun': 'Allu Arjun, along with his wife and two young children, resides in Hyderabad, India, and is currently working on the sequel to \"Pushpa: The Rise,\" titled \"Pushpa: The Rule,\" with director Sukumar.', 'Pusha': 'The sequel to \"Pushpa: The Rise,\" titled \"Pushpa: The Rule,\" marks the reunion of Allu Arjun and Sukumar.'}\n"
     ]
    }
   ],
   "source": [
    "print(entitymemory.entity_store.store)"
   ]
  },
  {
   "cell_type": "code",
   "execution_count": 49,
   "metadata": {},
   "outputs": [
    {
     "data": {
      "text/plain": [
       "{'input': '\\nSukumar also collaborated with Allu Arjun in the past for few movies\\n',\n",
       " 'history': 'Human: \\nSukumar helped Allu Arjun to become a star hero.\\nAllu Arjun also received national award for actor in the leading role, male.\\n\\nAI: Indeed, Sukumar has played a pivotal role in Allu Arjun\\'s rise to stardom. The duo has collaborated on several blockbuster films, including \"Arya,\" \"Arya 2,\" and \"Pushpa: The Rise.\" Sukumar\\'s directorial vision and storytelling prowess have perfectly complemented Allu Arjun\\'s energetic and expressive acting style, resulting in films that have captivated audiences and critics alike.\\n\\nAllu Arjun\\'s performance in \"Pushpa: The Rise\" was particularly noteworthy, earning him critical acclaim and widespread recognition. His portrayal of the titular character, Pushpa Raj, was nuanced and layered, showcasing his range as an actor. The film\\'s success and Allu Arjun\\'s subsequent National Award for Best Actor in the Leading Role, Male, further cemented his status as a leading star in Indian cinema.\\n\\nIt is evident that Sukumar and Allu Arjun have a strong creative partnership, and their collaboration has produced some of the most memorable and successful films in recent Telugu cinema. The duo\\'s upcoming film, \"Pushpa: The Rule,\" is highly anticipated and is expected to continue their winning streak.\\nHuman: \\nAll Arjun lives with wife and two young children.\\nSukumar and Allu Arjun joined together again for their sequel to Pusha\\n\\nAI: Allu Arjun, along with his wife and two young children, resides in Hyderabad, India. He leads a private life, valuing his family and maintaining a close circle of friends. Allu Arjun is known for his dedication to his craft and his commitment to delivering powerful performances on screen.\\n\\nThe sequel to \"Pushpa: The Rise,\" titled \"Pushpa: The Rule,\" marks the reunion of Allu Arjun and Sukumar. The highly anticipated film is currently in production and is expected to surpass the success of its predecessor. With Sukumar\\'s directorial expertise and Allu Arjun\\'s captivating acting, the sequel promises to deliver an even more thrilling and immersive experience for audiences worldwide.\\n\\nAllu Arjun\\'s family undoubtedly plays a significant role in his life, providing him with a strong support system and a sense of balance amidst his demanding career. As he continues to achieve new heights in the film industry, his dedication to his craft and his commitment to his family remain unwavering.',\n",
       " 'entities': {'Sukumar': 'Sukumar, a pivotal figure in Allu Arjun\\'s rise to stardom, directed films that captured audiences and critics, leading to Arjun\\'s National Award for Best Actor in the Leading Role, Male for his performance in \"Pushpa: The Rise.\"',\n",
       "  'Allu Arjun': 'Allu Arjun, along with his wife and two young children, resides in Hyderabad, India, and is currently working on the sequel to \"Pushpa: The Rise,\" titled \"Pushpa: The Rule,\" with director Sukumar.'},\n",
       " 'response': 'Sukumar and Allu Arjun have a long-standing creative partnership that dates back several years. Prior to \"Pushpa: The Rise,\" the duo collaborated on a number of successful films that showcased their exceptional talent and chemistry.\\n\\nOne of their notable collaborations was the \"Arya\" franchise, which consists of two films: \"Arya\" (2004) and \"Arya 2\" (2009). These films established Allu Arjun as a rising star in Telugu cinema and showcased his versatility as an actor. Sukumar\\'s direction and storytelling skills were perfectly complemented by Allu Arjun\\'s energetic and expressive acting style, resulting in films that were both critically acclaimed and commercially successful.\\n\\nAnother significant collaboration between Sukumar and Allu Arjun was the film \"Julayi\" (2012), an action-comedy that was a major box office hit. Allu Arjun\\'s portrayal of the character Ravi was widely praised, and the film\\'s success further solidified his position as a leading actor in Telugu cinema.\\n\\nSukumar and Allu Arjun have a deep understanding of each other\\'s strengths and weaknesses, and their collaboration consistently produces films that entertain and engage audiences. Their upcoming film, \"Pushpa: The Rule,\" is highly anticipated and is expected to be another milestone in their successful partnership.'}"
      ]
     },
     "execution_count": 49,
     "metadata": {},
     "output_type": "execute_result"
    }
   ],
   "source": [
    "entity_chain.invoke (\"\"\"\n",
    "Sukumar also collaborated with Allu Arjun in the past for few movies\n",
    "\"\"\")"
   ]
  },
  {
   "cell_type": "markdown",
   "metadata": {},
   "source": [
    "<<< End Of Document >>>"
   ]
  }
 ],
 "metadata": {
  "kernelspec": {
   "display_name": "Python 3",
   "language": "python",
   "name": "python3"
  },
  "language_info": {
   "codemirror_mode": {
    "name": "ipython",
    "version": 3
   },
   "file_extension": ".py",
   "mimetype": "text/x-python",
   "name": "python",
   "nbconvert_exporter": "python",
   "pygments_lexer": "ipython3",
   "version": "3.12.0"
  }
 },
 "nbformat": 4,
 "nbformat_minor": 2
}
