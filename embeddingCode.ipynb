{
 "cells": [
  {
   "cell_type": "markdown",
   "id": "b1b0160d-c732-4389-b830-bb78eccaf6b5",
   "metadata": {},
   "source": [
    "#### In this document you will find how to embed and store the document in vectors."
   ]
  },
  {
   "cell_type": "code",
   "execution_count": 42,
   "metadata": {},
   "outputs": [],
   "source": [
    "from langchain_community.document_loaders import WikipediaLoader\n",
    "from langchain.text_splitter import CharacterTextSplitter\n",
    "from langchain.globals import set_llm_cache\n",
    "from langchain.cache import InMemoryCache\n",
    "\n",
    "loader = WikipediaLoader(\"Mahesh Babu\")"
   ]
  },
  {
   "cell_type": "code",
   "execution_count": 43,
   "metadata": {},
   "outputs": [],
   "source": [
    "set_llm_cache(InMemoryCache)\n",
    "actorInfo = loader.load()"
   ]
  },
  {
   "cell_type": "code",
   "execution_count": 50,
   "metadata": {},
   "outputs": [],
   "source": [
    "splitter_func = CharacterTextSplitter(separator=\"\\n\\n\", chunk_size=3500, chunk_overlap=150)"
   ]
  },
  {
   "cell_type": "code",
   "execution_count": 51,
   "metadata": {},
   "outputs": [
    {
     "name": "stdout",
     "output_type": "stream",
     "text": [
      "Ghattamaneni Mahesh Babu (born 9 August 1975) is an Indian actor, producer, media personality, and philanthropist who works mainly in Telugu cinema. He has appeared in more than 25 films, and won several accolades including, Nine Nandi Awards, five Filmfare Telugu Awards, four SIIMA Awards, three CineMAA Awards, and one IIFA Utsavam Award. One of the highest-paid Telugu film actors, he also owns the production house G. Mahesh Babu Entertainment.\n",
      "The younger son of veteran Telugu actor Krishna, Mahesh made his debut as a child artist in a cameo role in Needa (1979), at the age of four, and acted in eight other films as a child artist. He made his debut as a lead actor with Rajakumarudu (1999) which won him the Nandi Award for Best Male Debut. Babu achieved his breakthrough with the supernatural drama Murari (2001), and the action film Okkadu (2003). He went on to act in other commercially successful films such as Arjun (2004), Athadu (2005), Pokiri (2006), Dookudu (2011), Businessman (2012), Seethamma Vakitlo Sirimalle Chettu (2013), Srimanthudu (2015), Bharat Ane Nenu (2018), Maharshi (2019), Sarileru Neekevvaru (2020) and Sarkaru Vaari Paata (2022). Pokiri held the record of being the highest-grossing Telugu film, Maharshi won the National Film Award for Best Popular Film, while Sarileru Neekevvaru, his highest grosser, collected over ₹260 crore at the box office.Referred to in the media and by his fans as Prince, he is one of the most popular actors of Telugu cinema. In addition to being an actor, he is a humanitarian and philanthropist – co running the charitable trust and non-profit organisation Heal A Child. He is also associated with Rainbow Hospitals as their goodwill ambassador. He entered into the film exhibition business alongside the late Narayandas Narang of Asian Group with the inauguration of the seven-screen multiplex, AMB cinemas at Gachibowli, Hyderabad. He married actress Namrata Shirodkar in 2005, with whom he has a son and a daughter.\n",
      "\n",
      "\n",
      "== Early life and family ==\n",
      "Ghattamaneni Mahesh Babu was born on 9 August 1975 in a Telugu family in Madras (now Chennai), Tamil Nadu, India. He is the fourth of the five children of Telugu actor Krishna and Indira, after Ramesh Babu, Padmavathi, and Manjula and before Priyadarshini. Their family hails from Burripalem in Guntur district, Andhra Pradesh. Babu spent his childhood mostly in Madras under the care of his maternal grandmother Durgamma and the rest of his family.He was educated at St. Bede's Anglo Indian Higher Secondary School, Chennai. He obtained a bachelor's degree in commerce from the Loyola College, Chennai. Babu and actor Vijay are childhood friends. Babu stated that he had to rely on his memory or conversations with the film directors while delivering dialogues during the dubbing phase of the films.\n",
      "\n",
      "\n",
      "== Acting career ==\n"
     ]
    }
   ],
   "source": [
    "chunks = splitter_func.split_documents(actorInfo)\n",
    "print(chunks[0].page_content)"
   ]
  },
  {
   "cell_type": "code",
   "execution_count": 52,
   "metadata": {},
   "outputs": [],
   "source": [
    "from langchain_openai import OpenAIEmbeddings\n",
    "from langchain_community.vectorstores import Chroma\n",
    "import os "
   ]
  },
  {
   "cell_type": "code",
   "execution_count": 53,
   "metadata": {},
   "outputs": [],
   "source": [
    "embeddings_func = OpenAIEmbeddings(openai_api_key=os.getenv(\"OPENAI_API_KEY_PERSONAL\"))"
   ]
  },
  {
   "cell_type": "code",
   "execution_count": 54,
   "metadata": {},
   "outputs": [],
   "source": [
    "maheshbabu_db = Chroma.from_documents(chunks, embedding=embeddings_func, persist_directory=\"./maheshbabu_db\")"
   ]
  },
  {
   "cell_type": "code",
   "execution_count": 55,
   "metadata": {},
   "outputs": [],
   "source": [
    "maheshbabu_db.persist()"
   ]
  },
  {
   "cell_type": "markdown",
   "metadata": {},
   "source": [
    "<<< End Of Document >>>"
   ]
  }
 ],
 "metadata": {
  "kernelspec": {
   "display_name": "Python 3 (ipykernel)",
   "language": "python",
   "name": "python3"
  },
  "language_info": {
   "codemirror_mode": {
    "name": "ipython",
    "version": 3
   },
   "file_extension": ".py",
   "mimetype": "text/x-python",
   "name": "python",
   "nbconvert_exporter": "python",
   "pygments_lexer": "ipython3",
   "version": "3.11.5"
  }
 },
 "nbformat": 4,
 "nbformat_minor": 2
}
