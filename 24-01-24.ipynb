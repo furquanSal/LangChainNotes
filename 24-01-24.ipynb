{
 "cells": [
  {
   "cell_type": "markdown",
   "id": "f6189b09-49fa-4f8f-860a-d7d564ad2288",
   "metadata": {
    "tags": []
   },
   "source": [
    "# January 23, 2024 Session Notes"
   ]
  },
  {
   "cell_type": "markdown",
   "id": "4300fed6-4264-4d4a-81ca-2533b96dfcea",
   "metadata": {
    "tags": []
   },
   "source": [
    "#### 1. Few Shots Example (Method 1)"
   ]
  },
  {
   "cell_type": "code",
   "execution_count": 28,
   "id": "f5662afd-6788-4279-9553-4734a2aa47e2",
   "metadata": {
    "tags": []
   },
   "outputs": [],
   "source": [
    "from langchain.globals import set_llm_cache\n",
    "from langchain.cache import InMemoryCache\n",
    "from langchain_openai import ChatOpenAI\n",
    "from langchain_core.prompts import SystemMessagePromptTemplate, HumanMessagePromptTemplate, AIMessagePromptTemplate, ChatPromptTemplate\n",
    "import os "
   ]
  },
  {
   "cell_type": "code",
   "execution_count": 29,
   "id": "5d42c3af-da01-4f52-a2fb-f381e33b837f",
   "metadata": {
    "tags": []
   },
   "outputs": [],
   "source": [
    "set_llm_cache(InMemoryCache())\n",
    "\n",
    "OPENAI_API_KEY_PERSONAL = os.getenv(\"OPENAI_API_KEY_PERSONAL\")\n",
    "model = ChatOpenAI(openai_api_key = OPENAI_API_KEY_PERSONAL)"
   ]
  },
  {
   "cell_type": "code",
   "execution_count": 30,
   "id": "4dd1b041-f44d-42e6-bde9-105e69c1d6df",
   "metadata": {
    "tags": []
   },
   "outputs": [],
   "source": [
    "template = \"You are a helpful AI assisstant that translates complex legal language text into plain and simple terms\"\n",
    "sysmsg = SystemMessagePromptTemplate.from_template(template)"
   ]
  },
  {
   "cell_type": "code",
   "execution_count": 31,
   "id": "5f5363bc-75d9-48e2-b77b-8a33ba1f1d71",
   "metadata": {
    "tags": []
   },
   "outputs": [],
   "source": [
    "legal_text = \"\"\"The provisions herein shall be severable, and if any provision or portion thereof is deemed invalid, illegal, \n",
    "or unenforceable by a court of competent jurisdiction, \n",
    "the remaining provisions or portions thereof shall remain in full force and effect to the maximum extent permitted by law.\"\"\""
   ]
  },
  {
   "cell_type": "code",
   "execution_count": 32,
   "id": "0a6421c8-bc1c-45d8-b7bf-7185b5815591",
   "metadata": {
    "tags": []
   },
   "outputs": [],
   "source": [
    "example_input_1 = HumanMessagePromptTemplate.from_template(legal_text)"
   ]
  },
  {
   "cell_type": "code",
   "execution_count": 33,
   "id": "c296b2cb-5b6f-4d49-860f-77dd6ab93d37",
   "metadata": {
    "tags": []
   },
   "outputs": [],
   "source": [
    "plain_english_text = \"\"\"The rules in this agreement can be separated. If a court decides that one rule or part of it is not valid, illegal, or cannot be enforced, \n",
    "the other rules will still apply and be enforced as much as they can under the law.\"\"\""
   ]
  },
  {
   "cell_type": "code",
   "execution_count": 34,
   "id": "a6e4a455-d247-4a6d-a0ed-d4e18de9dcd5",
   "metadata": {
    "tags": []
   },
   "outputs": [],
   "source": [
    "example_output_1 = AIMessagePromptTemplate.from_template(plain_english_text)"
   ]
  },
  {
   "cell_type": "code",
   "execution_count": 35,
   "id": "a3595f17-3897-4634-97ff-bdee7e1b5e5c",
   "metadata": {
    "tags": []
   },
   "outputs": [],
   "source": [
    "my_legal_text = \"\"\"The grantor, being the fee simple owner of the real property herein described, conveys and \n",
    "warrants to the grantee, his heirs and assigns, all of the grantor's right, title, and interest in and to the said property, \n",
    "subject to all existing encumbrances, liens, and easements, as recorded in the official records of the county, \n",
    "and any applicable covenants, conditions, and restrictions affecting the property, \n",
    "in consideration of the sum of [purchase price] paid by the grantee.\"\"\""
   ]
  },
  {
   "cell_type": "code",
   "execution_count": 36,
   "id": "710d7b65-b209-407f-970b-03bb91c77145",
   "metadata": {
    "tags": []
   },
   "outputs": [],
   "source": [
    "my_prompt_templ = HumanMessagePromptTemplate.from_template(my_legal_text)"
   ]
  },
  {
   "cell_type": "code",
   "execution_count": 37,
   "id": "b764e333-ab60-4a2f-80e8-fd772bccb9b5",
   "metadata": {
    "tags": []
   },
   "outputs": [],
   "source": [
    "chat_prompt = ChatPromptTemplate.from_messages([sysmsg, example_input_1, example_output_1, my_prompt_templ])\n",
    "prompt = chat_prompt.format_prompt().to_messages()"
   ]
  },
  {
   "cell_type": "code",
   "execution_count": 38,
   "id": "1e15a8a8-58d6-4bad-bf51-0904a6bde457",
   "metadata": {
    "tags": []
   },
   "outputs": [],
   "source": [
    "result = model.invoke (prompt)"
   ]
  },
  {
   "cell_type": "code",
   "execution_count": 39,
   "id": "e83bc630-2fbc-4399-ab0b-da575b1453b8",
   "metadata": {
    "tags": []
   },
   "outputs": [
    {
     "name": "stdout",
     "output_type": "stream",
     "text": [
      "The person who currently owns the property is giving and guaranteeing to the person receiving it, along with their heirs and future owners, all of their rights and ownership in the property mentioned. However, there may be existing issues like loans, legal claims, or rights of way recorded in the county's official records that the new owner will have to deal with. There may also be certain rules and restrictions affecting the property. This transfer is happening because the new owner has paid a certain amount of money to the current owner.\n"
     ]
    }
   ],
   "source": [
    "print (result.content)"
   ]
  },
  {
   "cell_type": "markdown",
   "id": "68ac5f65-c126-4524-abef-1df24149424c",
   "metadata": {},
   "source": [
    "#### 2. Few Shots Example (Method 2)"
   ]
  },
  {
   "cell_type": "code",
   "execution_count": 41,
   "id": "337463f4-3199-4bf3-8f3e-68ce40468afd",
   "metadata": {
    "tags": []
   },
   "outputs": [],
   "source": [
    "from langchain_core.prompts import FewShotPromptTemplate, PromptTemplate\n",
    "from langchain.globals import set_llm_cache\n",
    "from langchain.cache import InMemoryCache\n",
    "from langchain_openai import ChatOpenAI\n",
    "import os "
   ]
  },
  {
   "cell_type": "code",
   "execution_count": 42,
   "id": "0927b14a-d531-402e-9e02-7807e4c05115",
   "metadata": {
    "tags": []
   },
   "outputs": [],
   "source": [
    "few_shots = [\n",
    "    {'Word':'Happy', 'Antonym':'Bad'},\n",
    "    {'Word':'Hot', 'Antonym':'Cold'},\n",
    "    {'Word':'Fast', 'Antonym':'Slow'},\n",
    "    {'Word':'Brave', 'Antonym':'Coward'}\n",
    "]"
   ]
  },
  {
   "cell_type": "code",
   "execution_count": 43,
   "id": "f6c9c925-706b-4f8f-b2db-e50b65f21db1",
   "metadata": {
    "tags": []
   },
   "outputs": [],
   "source": [
    "example_prompt = PromptTemplate(input_variables=[\"Word,Antonym\"], template=\"Word: {Word} Antonym: {Antonym}\")"
   ]
  },
  {
   "cell_type": "code",
   "execution_count": 44,
   "id": "ee52b555-20cc-40b9-bef6-1ad94944a5ff",
   "metadata": {
    "tags": []
   },
   "outputs": [],
   "source": [
    "dynamic_prompt = FewShotPromptTemplate(\n",
    "    input_variables=['word'],\n",
    "    examples=few_shots,\n",
    "    example_prompt=example_prompt,\n",
    "    prefix=\"I want antonym of the given word\",\n",
    "    suffix = \"Query: {word}, Result:\"\n",
    ")"
   ]
  },
  {
   "cell_type": "code",
   "execution_count": 45,
   "id": "6a5b7075-9e77-4aed-8a1d-f1d3ba4d01dd",
   "metadata": {
    "tags": []
   },
   "outputs": [],
   "source": [
    "prompt = dynamic_prompt.format(word=\"Big\")"
   ]
  },
  {
   "cell_type": "code",
   "execution_count": 46,
   "id": "5ff72195-c1c3-47cc-8913-e720fc7d6b03",
   "metadata": {
    "tags": []
   },
   "outputs": [],
   "source": [
    "result = model.invoke (prompt)"
   ]
  },
  {
   "cell_type": "code",
   "execution_count": 47,
   "id": "39da2871-dfd2-48ac-992d-6d0ff55a9b11",
   "metadata": {
    "tags": []
   },
   "outputs": [
    {
     "name": "stdout",
     "output_type": "stream",
     "text": [
      "Small\n"
     ]
    }
   ],
   "source": [
    "print (result.content)"
   ]
  },
  {
   "cell_type": "code",
   "execution_count": 48,
   "id": "f675a7da-d2c8-4d94-ad5a-1c410380daed",
   "metadata": {
    "tags": []
   },
   "outputs": [],
   "source": [
    "new_examples = {\"Word\": \"Big\", \"Antonym\":\"Small\"}"
   ]
  },
  {
   "cell_type": "code",
   "execution_count": 49,
   "id": "3b059cde-31fd-4b7d-a52f-3cb430557e18",
   "metadata": {
    "tags": []
   },
   "outputs": [
    {
     "data": {
      "text/plain": [
       "{'Word': 'Big', 'Antonym': 'Small'}"
      ]
     },
     "execution_count": 49,
     "metadata": {},
     "output_type": "execute_result"
    }
   ],
   "source": [
    "new_examples"
   ]
  },
  {
   "cell_type": "code",
   "execution_count": 50,
   "id": "1b0c1100-7f58-4e16-b3c3-0789798b4f04",
   "metadata": {
    "tags": []
   },
   "outputs": [
    {
     "data": {
      "text/plain": [
       "[{'Word': 'Happy', 'Antonym': 'Bad'},\n",
       " {'Word': 'Hot', 'Antonym': 'Cold'},\n",
       " {'Word': 'Fast', 'Antonym': 'Slow'},\n",
       " {'Word': 'Brave', 'Antonym': 'Coward'}]"
      ]
     },
     "execution_count": 50,
     "metadata": {},
     "output_type": "execute_result"
    }
   ],
   "source": [
    "few_shots"
   ]
  },
  {
   "cell_type": "code",
   "execution_count": 51,
   "id": "83071626-5f91-4c77-b830-ddfc5454c2c3",
   "metadata": {
    "tags": []
   },
   "outputs": [],
   "source": [
    "few_shots.append(new_examples)"
   ]
  },
  {
   "cell_type": "code",
   "execution_count": 52,
   "id": "bc8e6796-02aa-477d-9068-f5575803769a",
   "metadata": {
    "tags": []
   },
   "outputs": [
    {
     "data": {
      "text/plain": [
       "[{'Word': 'Happy', 'Antonym': 'Bad'},\n",
       " {'Word': 'Hot', 'Antonym': 'Cold'},\n",
       " {'Word': 'Fast', 'Antonym': 'Slow'},\n",
       " {'Word': 'Brave', 'Antonym': 'Coward'},\n",
       " {'Word': 'Big', 'Antonym': 'Small'}]"
      ]
     },
     "execution_count": 52,
     "metadata": {},
     "output_type": "execute_result"
    }
   ],
   "source": [
    "few_shots"
   ]
  },
  {
   "cell_type": "markdown",
   "id": "2f41f6c7-b23f-4a04-8b61-393d1cc0ed03",
   "metadata": {},
   "source": [
    "#### 3. Out Parsers"
   ]
  },
  {
   "cell_type": "code",
   "execution_count": 13,
   "id": "286821a6-2f59-4f45-8bdd-005e284531b0",
   "metadata": {
    "tags": []
   },
   "outputs": [],
   "source": [
    "from langchain.globals import set_llm_cache\n",
    "from langchain.cache import InMemoryCache\n",
    "from langchain.output_parsers import DatetimeOutputParser, OutputFixingParser\n",
    "from langchain_openai import ChatOpenAI\n",
    "from langchain_core.prompts import SystemMessagePromptTemplate, HumanMessagePromptTemplate, AIMessagePromptTemplate, ChatPromptTemplate\n",
    "import os \n"
   ]
  },
  {
   "cell_type": "code",
   "execution_count": 14,
   "id": "e26e40bc-4034-4f8c-958d-ae083abda482",
   "metadata": {
    "tags": []
   },
   "outputs": [],
   "source": [
    "set_llm_cache(InMemoryCache())\n",
    "\n",
    "OPENAI_API_KEY_PERSONAL = os.getenv(\"OPENAI_API_KEY_PERSONAL\")\n",
    "model = ChatOpenAI(openai_api_key = OPENAI_API_KEY_PERSONAL)"
   ]
  },
  {
   "cell_type": "code",
   "execution_count": 15,
   "id": "c34d2d71-fc03-4487-b145-b29b4a8c9649",
   "metadata": {
    "tags": []
   },
   "outputs": [],
   "source": [
    "output_parser = DatetimeOutputParser()"
   ]
  },
  {
   "cell_type": "code",
   "execution_count": 16,
   "id": "94a22014-e78f-4e57-b29c-410ed254ceed",
   "metadata": {
    "tags": []
   },
   "outputs": [
    {
     "data": {
      "text/plain": [
       "\"Write a datetime string that matches the following pattern: '%Y-%m-%dT%H:%M:%S.%fZ'.\\n\\nExamples: 1083-10-11T08:23:44.042931Z, 1511-09-15T14:37:13.172798Z, 1170-12-18T10:34:40.987190Z\\n\\nReturn ONLY this string, no other words!\""
      ]
     },
     "execution_count": 16,
     "metadata": {},
     "output_type": "execute_result"
    }
   ],
   "source": [
    "output_parser.get_format_instructions()"
   ]
  },
  {
   "cell_type": "code",
   "execution_count": 17,
   "id": "1cb5e341-fb14-4ca5-ab57-364753865056",
   "metadata": {
    "tags": []
   },
   "outputs": [],
   "source": [
    "hum_msg = HumanMessagePromptTemplate.from_template(template=\"When did Neil Armstrong landed on moon? \\n{my_desired_format}\")"
   ]
  },
  {
   "cell_type": "code",
   "execution_count": 18,
   "id": "3ac4a5b6-59ea-400c-b391-51579a8afa5d",
   "metadata": {
    "tags": []
   },
   "outputs": [],
   "source": [
    "chat_prompt = ChatPromptTemplate.from_messages([hum_msg])"
   ]
  },
  {
   "cell_type": "code",
   "execution_count": 19,
   "id": "b85e454a-678b-47e3-9a1d-7e84fd926b11",
   "metadata": {
    "tags": []
   },
   "outputs": [],
   "source": [
    "prompt = chat_prompt.format_prompt(my_desired_format=output_parser.get_format_instructions())"
   ]
  },
  {
   "cell_type": "code",
   "execution_count": 20,
   "id": "cb7d4838-42c7-464a-b74d-937a118976e7",
   "metadata": {
    "tags": []
   },
   "outputs": [
    {
     "name": "stdout",
     "output_type": "stream",
     "text": [
      "messages=[HumanMessage(content=\"When did Neil Armstrong landed on moon? \\nWrite a datetime string that matches the following pattern: '%Y-%m-%dT%H:%M:%S.%fZ'.\\n\\nExamples: 0457-07-17T00:47:20.141598Z, 0816-12-07T21:27:19.231823Z, 2023-03-16T09:50:43.694527Z\\n\\nReturn ONLY this string, no other words!\")]\n"
     ]
    }
   ],
   "source": [
    "print (prompt)"
   ]
  },
  {
   "cell_type": "code",
   "execution_count": 21,
   "id": "fb5aaa02-98f0-4fdc-a0cf-f90c965526ce",
   "metadata": {
    "tags": []
   },
   "outputs": [],
   "source": [
    "result = model.invoke(prompt)"
   ]
  },
  {
   "cell_type": "code",
   "execution_count": 22,
   "id": "bee2be16-181a-4ac6-a92e-a5c523183819",
   "metadata": {
    "tags": []
   },
   "outputs": [
    {
     "name": "stdout",
     "output_type": "stream",
     "text": [
      "1969-07-20T20:17:40.000000Z\n"
     ]
    }
   ],
   "source": [
    "print(result.content)"
   ]
  },
  {
   "cell_type": "code",
   "execution_count": 23,
   "id": "5074a699-b92c-4749-8cd8-690a1661fd77",
   "metadata": {
    "tags": []
   },
   "outputs": [
    {
     "data": {
      "text/plain": [
       "str"
      ]
     },
     "execution_count": 23,
     "metadata": {},
     "output_type": "execute_result"
    }
   ],
   "source": [
    "type(result.content)"
   ]
  },
  {
   "cell_type": "code",
   "execution_count": 24,
   "id": "9b605378-5ba3-44a2-8922-0e446393748e",
   "metadata": {
    "tags": []
   },
   "outputs": [
    {
     "data": {
      "text/plain": [
       "datetime.datetime(1969, 7, 20, 20, 17, 40)"
      ]
     },
     "execution_count": 24,
     "metadata": {},
     "output_type": "execute_result"
    }
   ],
   "source": [
    "output_parser.parse(result.content)"
   ]
  },
  {
   "cell_type": "code",
   "execution_count": null,
   "id": "96c3909e-835a-495b-ae17-bc4936c5bba7",
   "metadata": {},
   "outputs": [],
   "source": []
  }
 ],
 "metadata": {
  "kernelspec": {
   "display_name": "Python 3 (ipykernel)",
   "language": "python",
   "name": "python3"
  },
  "language_info": {
   "codemirror_mode": {
    "name": "ipython",
    "version": 3
   },
   "file_extension": ".py",
   "mimetype": "text/x-python",
   "name": "python",
   "nbconvert_exporter": "python",
   "pygments_lexer": "ipython3",
   "version": "3.11.5"
  }
 },
 "nbformat": 4,
 "nbformat_minor": 5
}
