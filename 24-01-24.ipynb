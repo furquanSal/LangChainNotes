{
 "cells": [
  {
   "cell_type": "markdown",
   "id": "ce91c9fe-4eda-4dea-bf52-9ae3165f66a5",
   "metadata": {},
   "source": [
    "# January 24, 2024 Session Notes"
   ]
  },
  {
   "cell_type": "markdown",
   "id": "b1b0160d-c732-4389-b830-bb78eccaf6b5",
   "metadata": {},
   "source": [
    "#### 1. Pydantic Output Parser"
   ]
  },
  {
   "cell_type": "code",
   "execution_count": 4,
   "id": "74821e22-e7b9-4732-9223-286e65267155",
   "metadata": {
    "tags": []
   },
   "outputs": [],
   "source": [
    "from langchain_openai import ChatOpenAI\n",
    "from langchain.output_parsers import PydanticOutputParser, CommaSeparatedListOutputParser, OutputFixingParser\n",
    "from langchain_core.prompts import SystemMessagePromptTemplate, HumanMessagePromptTemplate, AIMessagePromptTemplate, ChatPromptTemplate, PromptTemplate\n",
    "from pydantic import BaseModel, Field\n",
    "import os"
   ]
  },
  {
   "cell_type": "code",
   "execution_count": 7,
   "id": "9ec41f8e-196a-4b9a-8d6f-39513ffaca0b",
   "metadata": {
    "tags": []
   },
   "outputs": [],
   "source": [
    "API_KEY = os.getenv(\"OPENAI_API_KEY_PERSONAL\")\n",
    "model = ChatOpenAI(openai_api_key = API_KEY)"
   ]
  },
  {
   "cell_type": "code",
   "execution_count": 8,
   "id": "58f5a3ba-ba92-49eb-915c-45e51c7259e7",
   "metadata": {
    "tags": []
   },
   "outputs": [],
   "source": [
    "class Scientist (BaseModel):\n",
    "    name: str = Field(description = 'Name of a scientist')\n",
    "    discoveries: list = Field(description=\"List of discoveries\")"
   ]
  },
  {
   "cell_type": "code",
   "execution_count": 9,
   "id": "42c99531-8ab4-4c47-a3af-0b4189197b74",
   "metadata": {
    "tags": []
   },
   "outputs": [],
   "source": [
    "prompt_query = \"Name a famous scientist and list of their discoveries\""
   ]
  },
  {
   "cell_type": "code",
   "execution_count": 12,
   "id": "363e00f6-0535-4408-89a3-444f2b493f99",
   "metadata": {},
   "outputs": [],
   "source": [
    "parser = PydanticOutputParser(pydantic_object=Scientist)"
   ]
  },
  {
   "cell_type": "code",
   "execution_count": 21,
   "id": "5ae8d01c-7de5-4d86-a84f-97ea2728e614",
   "metadata": {},
   "outputs": [],
   "source": [
    "prompt = PromptTemplate(\n",
    "    input_variables=[\"query\"],\n",
    "    template = \"Answer user query {query} \\n {format}\",\n",
    "    partial_variables={\"format\": parser.get_format_instructions()}\n",
    ")"
   ]
  },
  {
   "cell_type": "code",
   "execution_count": 23,
   "id": "97a9c72b-f9e9-4c76-9a74-db5784db0e11",
   "metadata": {},
   "outputs": [],
   "source": [
    "final_prompt = prompt.format_prompt(query=prompt_query)"
   ]
  },
  {
   "cell_type": "code",
   "execution_count": 28,
   "id": "2e50490b-057b-4f68-94e2-2a7e3e31f8f4",
   "metadata": {},
   "outputs": [],
   "source": [
    "output = model.invoke(final_prompt)"
   ]
  },
  {
   "cell_type": "code",
   "execution_count": 32,
   "id": "7d2c48a2-1559-40cd-a7d5-2da6cc335b7c",
   "metadata": {},
   "outputs": [
    {
     "name": "stdout",
     "output_type": "stream",
     "text": [
      "{\n",
      "  \"name\": \"Albert Einstein\",\n",
      "  \"discoveries\": [\n",
      "    \"Theory of Relativity\",\n",
      "    \"Photoelectric Effect\",\n",
      "    \"Brownian Motion\"\n",
      "  ]\n",
      "}\n"
     ]
    }
   ],
   "source": [
    "print (output.content)"
   ]
  },
  {
   "cell_type": "code",
   "execution_count": 33,
   "id": "b02c65e7-df39-4f64-b96a-db5ab6f2a74f",
   "metadata": {},
   "outputs": [
    {
     "data": {
      "text/plain": [
       "Scientist(name='Albert Einstein', discoveries=['Theory of Relativity', 'Photoelectric Effect', 'Brownian Motion'])"
      ]
     },
     "execution_count": 33,
     "metadata": {},
     "output_type": "execute_result"
    }
   ],
   "source": [
    "parser.parse(output.content)"
   ]
  },
  {
   "cell_type": "code",
   "execution_count": 35,
   "id": "6946d252-8f84-47a1-a81a-b1d497fd7618",
   "metadata": {},
   "outputs": [],
   "source": [
    "chain = prompt | model | parser"
   ]
  },
  {
   "cell_type": "code",
   "execution_count": 41,
   "id": "03261764-8642-4c1c-bf42-8cb1f020574f",
   "metadata": {},
   "outputs": [],
   "source": [
    "output = chain.invoke({\"query\":prompt_query})"
   ]
  },
  {
   "cell_type": "code",
   "execution_count": 43,
   "id": "1eebc680-3ff5-4ef1-94ac-c7204a036567",
   "metadata": {},
   "outputs": [
    {
     "name": "stdout",
     "output_type": "stream",
     "text": [
      "name='Albert Einstein' discoveries=['Theory of Relativity', 'Photoelectric Effect', 'Brownian Motion']\n"
     ]
    }
   ],
   "source": [
    "print (output)"
   ]
  },
  {
   "cell_type": "markdown",
   "id": "38b6ff70-c676-4a4b-b920-7f8e725756a4",
   "metadata": {},
   "source": [
    "<<< End Of Document >>>"
   ]
  }
 ],
 "metadata": {
  "kernelspec": {
   "display_name": "Python 3 (ipykernel)",
   "language": "python",
   "name": "python3"
  },
  "language_info": {
   "codemirror_mode": {
    "name": "ipython",
    "version": 3
   },
   "file_extension": ".py",
   "mimetype": "text/x-python",
   "name": "python",
   "nbconvert_exporter": "python",
   "pygments_lexer": "ipython3",
   "version": "3.11.5"
  }
 },
 "nbformat": 4,
 "nbformat_minor": 5
}
