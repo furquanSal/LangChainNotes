{
 "cells": [
  {
   "cell_type": "markdown",
   "metadata": {},
   "source": [
    "# February 06, 2024 - Session Notes"
   ]
  },
  {
   "cell_type": "markdown",
   "metadata": {},
   "source": [
    "1. Multi Route Chains"
   ]
  },
  {
   "cell_type": "code",
   "execution_count": 34,
   "metadata": {},
   "outputs": [],
   "source": [
    "from langchain.chains import LLMChain\n",
    "from langchain.chains.router import RouterChain, MultiRouteChain\n",
    "from langchain.chains.router.llm_router import LLMRouterChain, RouterOutputParser\n",
    "from langchain_google_genai import ChatGoogleGenerativeAI\n",
    "from langchain_core.prompts import ChatPromptTemplate\n",
    "from langchain_core.prompts import PromptTemplate\n",
    "from langchain.chains.router.multi_prompt_prompt import MULTI_PROMPT_ROUTER_TEMPLATE"
   ]
  },
  {
   "cell_type": "code",
   "execution_count": 9,
   "metadata": {},
   "outputs": [],
   "source": [
    "model = ChatGoogleGenerativeAI(model='gemini-pro')"
   ]
  },
  {
   "cell_type": "code",
   "execution_count": 15,
   "metadata": {},
   "outputs": [],
   "source": [
    "scientist = '''\n",
    "You are a scientist.\n",
    "You do not answer any question that is outside the fold of science concepts.\n",
    "Here is the question for you. \\n {input}\n",
    "'''\n",
    "\n",
    "mathematician = '''\n",
    "You are a mathematician.\n",
    "You do not answer any question that is outside the fold of mathematic concepts.\n",
    "Here is the question for you. \\n {input}\n",
    "'''\n",
    "\n",
    "lawyer = '''\n",
    "You are a Lawyer. \n",
    "You do not answer any question that is outside the fold of law concepts.\n",
    "Here is the question for you. \\n {input}\n",
    "'''"
   ]
  },
  {
   "cell_type": "code",
   "execution_count": 16,
   "metadata": {},
   "outputs": [],
   "source": [
    "prompt_infos = [\n",
    "    {\n",
    "        \"name\" : \"scientist\",\n",
    "        \"desc\" : \"Rsponds to science questions only\",\n",
    "        \"prompt_template\" : scientist\n",
    "    },\n",
    "    {\n",
    "        \"name\" : \"mathematician\",\n",
    "        \"desc\" : \"Responds to mathematics questions only\",\n",
    "        \"prompt_template\" : mathematician\n",
    "    },\n",
    "    {\n",
    "        \"name\" : \"Lawyer\",\n",
    "        \"desc\" : \"Responds to law questions only\",\n",
    "        \"prompt_template\" : lawyer\n",
    "    }\n",
    "]"
   ]
  },
  {
   "cell_type": "code",
   "execution_count": 17,
   "metadata": {},
   "outputs": [],
   "source": [
    "default_prompt = ChatPromptTemplate.from_template(template='{input}')\n",
    "default_chain = LLMChain(llm=model, prompt=default_prompt)"
   ]
  },
  {
   "cell_type": "code",
   "execution_count": 18,
   "metadata": {},
   "outputs": [],
   "source": [
    "destination_chains = {}\n",
    "\n",
    "for _ in prompt_infos:\n",
    "    name = _['name']\n",
    "    templ = _['prompt_template']\n",
    "    chat_prompt = ChatPromptTemplate.from_template(templ)\n",
    "    chain = LLMChain(llm=model, prompt=chat_prompt)\n",
    "    destination_chains[name] = chain"
   ]
  },
  {
   "cell_type": "code",
   "execution_count": 19,
   "metadata": {},
   "outputs": [
    {
     "data": {
      "text/plain": [
       "{'scientist': LLMChain(prompt=ChatPromptTemplate(input_variables=['input'], messages=[HumanMessagePromptTemplate(prompt=PromptTemplate(input_variables=['input'], template='\\nYou are a scientist.\\nYou do not answer any question that is outside the fold of science concepts.\\nHere is the question for you. \\n {input}\\n'))]), llm=ChatGoogleGenerativeAI(model='gemini-pro', client= genai.GenerativeModel(\n",
       "    model_name='models/gemini-pro',\n",
       "    generation_config={}.\n",
       "    safety_settings={}\n",
       " ))),\n",
       " 'mathematician': LLMChain(prompt=ChatPromptTemplate(input_variables=['input'], messages=[HumanMessagePromptTemplate(prompt=PromptTemplate(input_variables=['input'], template='\\nYou are a mathematician.\\nYou do not answer any question that is outside the fold of mathematic concepts.\\nHere is the question for you. \\n {input}\\n'))]), llm=ChatGoogleGenerativeAI(model='gemini-pro', client= genai.GenerativeModel(\n",
       "    model_name='models/gemini-pro',\n",
       "    generation_config={}.\n",
       "    safety_settings={}\n",
       " ))),\n",
       " 'Lawyer': LLMChain(prompt=ChatPromptTemplate(input_variables=['input'], messages=[HumanMessagePromptTemplate(prompt=PromptTemplate(input_variables=['input'], template='\\nYou are a Lawyer. \\nYou do not answer any question that is outside the fold of law concepts.\\nHere is the question for you. \\n {input}\\n'))]), llm=ChatGoogleGenerativeAI(model='gemini-pro', client= genai.GenerativeModel(\n",
       "    model_name='models/gemini-pro',\n",
       "    generation_config={}.\n",
       "    safety_settings={}\n",
       " )))}"
      ]
     },
     "execution_count": 19,
     "metadata": {},
     "output_type": "execute_result"
    }
   ],
   "source": [
    "destination_chains"
   ]
  },
  {
   "cell_type": "code",
   "execution_count": 24,
   "metadata": {},
   "outputs": [],
   "source": [
    "#routing destinations\n",
    "\n",
    "destinations = [f\"{_['name']} : {_['desc']}\" for _ in prompt_infos]"
   ]
  },
  {
   "cell_type": "code",
   "execution_count": 25,
   "metadata": {},
   "outputs": [
    {
     "data": {
      "text/plain": [
       "['scientist : Rsponds to science questions only',\n",
       " 'mathematician : Responds to mathematics questions only',\n",
       " 'Lawyer : Responds to law questions only']"
      ]
     },
     "execution_count": 25,
     "metadata": {},
     "output_type": "execute_result"
    }
   ],
   "source": [
    "destinations"
   ]
  },
  {
   "cell_type": "code",
   "execution_count": 26,
   "metadata": {},
   "outputs": [],
   "source": [
    "destinations_str = '\\n'.join(destinations)"
   ]
  },
  {
   "cell_type": "code",
   "execution_count": 28,
   "metadata": {},
   "outputs": [],
   "source": [
    "router_temp = MULTI_PROMPT_ROUTER_TEMPLATE.format(destinations=destinations_str)"
   ]
  },
  {
   "cell_type": "code",
   "execution_count": 31,
   "metadata": {},
   "outputs": [
    {
     "name": "stdout",
     "output_type": "stream",
     "text": [
      "Given a raw text input to a language model select the model prompt best suited for the input. You will be given the names of the available prompts and a description of what the prompt is best suited for. You may also revise the original input if you think that revising it will ultimately lead to a better response from the language model.\n",
      "\n",
      "<< FORMATTING >>\n",
      "Return a markdown code snippet with a JSON object formatted to look like:\n",
      "```json\n",
      "{{\n",
      "    \"destination\": string \\ name of the prompt to use or \"DEFAULT\"\n",
      "    \"next_inputs\": string \\ a potentially modified version of the original input\n",
      "}}\n",
      "```\n",
      "\n",
      "REMEMBER: \"destination\" MUST be one of the candidate prompt names specified below OR it can be \"DEFAULT\" if the input is not well suited for any of the candidate prompts.\n",
      "REMEMBER: \"next_inputs\" can just be the original input if you don't think any modifications are needed.\n",
      "\n",
      "<< CANDIDATE PROMPTS >>\n",
      "scientist : Rsponds to science questions only\n",
      "mathematician : Responds to mathematics questions only\n",
      "Lawyer : Responds to law questions only\n",
      "\n",
      "<< INPUT >>\n",
      "{input}\n",
      "\n",
      "<< OUTPUT (must include ```json at the start of the response) >>\n",
      "<< OUTPUT (must end with ```) >>\n",
      "\n"
     ]
    }
   ],
   "source": [
    "print(router_temp)"
   ]
  },
  {
   "cell_type": "code",
   "execution_count": 45,
   "metadata": {},
   "outputs": [],
   "source": [
    "router_prompt = PromptTemplate(\n",
    "    template=router_temp, \n",
    "    input_variables=['input'], \n",
    "    output_parser=RouterOutputParser()\n",
    "    )\n",
    "\n",
    "router_chain = LLMRouterChain.from_llm(llm=model, prompt=router_prompt)"
   ]
  },
  {
   "cell_type": "code",
   "execution_count": 49,
   "metadata": {},
   "outputs": [],
   "source": [
    "chain = MultiRouteChain(router_chain=router_chain, destination_chains=destination_chains, default_chain=default_chain, verbose=True )"
   ]
  },
  {
   "cell_type": "code",
   "execution_count": 59,
   "metadata": {},
   "outputs": [
    {
     "name": "stdout",
     "output_type": "stream",
     "text": [
      "\n",
      "\n",
      "\u001b[1m> Entering new MultiRouteChain chain...\u001b[0m\n"
     ]
    },
    {
     "name": "stderr",
     "output_type": "stream",
     "text": [
      "C:\\Users\\mfurq\\AppData\\Roaming\\Python\\Python311\\site-packages\\langchain\\chains\\llm.py:316: UserWarning: The predict_and_parse method is deprecated, instead pass an output parser directly to LLMChain.\n",
      "  warnings.warn(\n"
     ]
    },
    {
     "name": "stdout",
     "output_type": "stream",
     "text": [
      "scientist: {'input': 'What is an atom?'}\n",
      "\u001b[1m> Finished chain.\u001b[0m\n"
     ]
    }
   ],
   "source": [
    "result = chain.invoke(\"What is an atom?\")"
   ]
  },
  {
   "cell_type": "code",
   "execution_count": 60,
   "metadata": {},
   "outputs": [
    {
     "name": "stdout",
     "output_type": "stream",
     "text": [
      "An atom is the basic unit of matter and the defining structure of elements. Atoms are composed of three types of subatomic particles: protons, neutrons, and electrons. Protons and neutrons are found in the nucleus of an atom, while electrons orbit the nucleus. The number of protons in an atom determines the element to which it belongs. For example, all atoms with one proton are hydrogen atoms, all atoms with two protons are helium atoms, and so on. The number of neutrons in an atom can vary, resulting in different isotopes of the same element. For example, carbon-12, carbon-13, and carbon-14 are all isotopes of carbon, each with a different number of neutrons. Atoms can combine with each other to form molecules, which are the building blocks of all matter.\n"
     ]
    }
   ],
   "source": [
    "print(result['text'])"
   ]
  },
  {
   "cell_type": "markdown",
   "metadata": {},
   "source": [
    "<<< End Of Document >>>"
   ]
  }
 ],
 "metadata": {
  "kernelspec": {
   "display_name": "Python 3 (ipykernel)",
   "language": "python",
   "name": "python3"
  },
  "language_info": {
   "codemirror_mode": {
    "name": "ipython",
    "version": 3
   },
   "file_extension": ".py",
   "mimetype": "text/x-python",
   "name": "python",
   "nbconvert_exporter": "python",
   "pygments_lexer": "ipython3",
   "version": "3.11.5"
  }
 },
 "nbformat": 4,
 "nbformat_minor": 2
}
