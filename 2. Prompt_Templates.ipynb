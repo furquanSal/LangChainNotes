{
 "cells": [
  {
   "cell_type": "markdown",
   "id": "560846ce-5f75-4c98-9315-7ab2ebcd6951",
   "metadata": {},
   "source": [
    "# January 22, 2024 Session Notes "
   ]
  },
  {
   "cell_type": "markdown",
   "id": "9d9d53d5-cae9-4e92-988d-9f79c8ad4059",
   "metadata": {},
   "source": [
    "#### 1. Messages "
   ]
  },
  {
   "cell_type": "code",
   "execution_count": 7,
   "id": "630a0e71-c265-42aa-bd55-59d81fbb568e",
   "metadata": {
    "tags": []
   },
   "outputs": [],
   "source": [
    "from langchain_openai import ChatOpenAI\n",
    "from langchain_core.messages import SystemMessage, HumanMessage\n",
    "import os"
   ]
  },
  {
   "cell_type": "code",
   "execution_count": 10,
   "id": "c2bd9a89-da0f-44dc-941d-42bf3549c526",
   "metadata": {
    "tags": []
   },
   "outputs": [],
   "source": [
    "OPENAI_API_KEY_PERSONAL = os.getenv(\"OPENAI_API_KEY_PERSONAL\")\n",
    "chat = ChatOpenAI(openai_api_key = OPENAI_API_KEY_PERSONAL)"
   ]
  },
  {
   "cell_type": "code",
   "execution_count": 11,
   "id": "89ab1d7e-e0bf-4ec3-a87b-fb9e4cd4778c",
   "metadata": {
    "tags": []
   },
   "outputs": [],
   "source": [
    "sysmsg = SystemMessage(content='You are a IT professional trainer')"
   ]
  },
  {
   "cell_type": "code",
   "execution_count": 12,
   "id": "4712b441-a592-4945-b08a-2f8036ab0228",
   "metadata": {
    "tags": []
   },
   "outputs": [],
   "source": [
    "hummsg = HumanMessage(content=\"Give 3 lines advanced python facts\")"
   ]
  },
  {
   "cell_type": "code",
   "execution_count": 13,
   "id": "38a9d617-5b3d-404d-bff3-f4aa9f46087e",
   "metadata": {
    "tags": []
   },
   "outputs": [],
   "source": [
    "result = chat.invoke(input=[sysmsg, hummsg])"
   ]
  },
  {
   "cell_type": "code",
   "execution_count": 14,
   "id": "30c7c39a-0727-4802-89f4-c7e115cfab19",
   "metadata": {
    "tags": []
   },
   "outputs": [
    {
     "name": "stdout",
     "output_type": "stream",
     "text": [
      "1. Python is known for its simplicity and readability, but it also offers advanced features such as metaprogramming, decorators, and generators. These features allow developers to write powerful and elegant code that is more efficient and maintainable.\n",
      "\n",
      "2. Python has a strong ecosystem of libraries and frameworks for various domains such as data analysis, machine learning, web development, and scientific computing. Some popular libraries include NumPy, Pandas, TensorFlow, Django, and Flask. These libraries provide ready-to-use tools and functions that can significantly speed up development and enhance the capabilities of Python.\n",
      "\n",
      "3. Python's performance can be optimized through various techniques such as using efficient algorithms, profiling and optimizing code, leveraging multiprocessing and multithreading, and utilizing external libraries written in faster languages like C or C++. With careful considerations and optimizations, Python can achieve impressive performance levels and compete with other programming languages in terms of speed and efficiency.\n"
     ]
    }
   ],
   "source": [
    "print(result.content)"
   ]
  },
  {
   "cell_type": "markdown",
   "id": "5c04a83a-9ac1-40d0-a1eb-f45722c570b9",
   "metadata": {},
   "source": [
    "#### 2. Cache"
   ]
  },
  {
   "cell_type": "code",
   "execution_count": 37,
   "id": "b233778c-c14f-49f6-9385-17c3ddabdf21",
   "metadata": {
    "tags": []
   },
   "outputs": [],
   "source": [
    "from langchain.globals import set_llm_cache\n",
    "from langchain.cache import InMemoryCache"
   ]
  },
  {
   "cell_type": "code",
   "execution_count": 39,
   "id": "bf0b33fb-6a57-46f8-b5d4-57fa51f086a1",
   "metadata": {
    "tags": []
   },
   "outputs": [],
   "source": [
    "set_llm_cache(InMemoryCache())"
   ]
  },
  {
   "cell_type": "markdown",
   "id": "e17739bb-1db6-4de8-917c-2bf257163dff",
   "metadata": {},
   "source": [
    "#### 3. LLM model promptTemplate"
   ]
  },
  {
   "cell_type": "code",
   "execution_count": 40,
   "id": "71988200-1756-46be-8dfc-20f58a1d3b92",
   "metadata": {
    "tags": []
   },
   "outputs": [],
   "source": [
    "from langchain.prompts import PromptTemplate"
   ]
  },
  {
   "cell_type": "code",
   "execution_count": 41,
   "id": "e044ac95-50d3-440a-b7e0-caa806a15316",
   "metadata": {
    "tags": []
   },
   "outputs": [],
   "source": [
    "templ = PromptTemplate(input_variables=[\"num_of_facts, language\"], template=\"Give me {num_of_facts} facts for {language} in single line.\")"
   ]
  },
  {
   "cell_type": "code",
   "execution_count": 42,
   "id": "a1c46264-b983-4419-92c9-cda319e7a5bb",
   "metadata": {
    "tags": []
   },
   "outputs": [],
   "source": [
    "prompt = templ.format(num_of_facts='2', language='Java')"
   ]
  },
  {
   "cell_type": "code",
   "execution_count": 43,
   "id": "caef244e-af30-4f8b-bc52-5669a3304fba",
   "metadata": {
    "tags": []
   },
   "outputs": [],
   "source": [
    "result = chat.invoke(prompt)"
   ]
  },
  {
   "cell_type": "code",
   "execution_count": 44,
   "id": "c9ec485a-8da2-4171-929d-f9ccb961e14b",
   "metadata": {
    "tags": []
   },
   "outputs": [
    {
     "name": "stdout",
     "output_type": "stream",
     "text": [
      "1. Java is an object-oriented programming language developed by James Gosling and his team at Sun Microsystems in the mid-1990s.\n",
      "2. Java is platform-independent, meaning it can run on any operating system or device that has a Java Virtual Machine (JVM) installed.\n"
     ]
    }
   ],
   "source": [
    "print(result.content)"
   ]
  },
  {
   "cell_type": "markdown",
   "id": "96fce5b6-a17b-4424-8e07-123e1f755ba9",
   "metadata": {
    "tags": []
   },
   "source": [
    "#### 4. Chat model promptTemplate"
   ]
  },
  {
   "cell_type": "code",
   "execution_count": 93,
   "id": "a061bda8-b341-4f2a-ae63-b12ce32f248e",
   "metadata": {
    "tags": []
   },
   "outputs": [],
   "source": [
    "from langchain.prompts import SystemMessagePromptTemplate, HumanMessagePromptTemplate, ChatPromptTemplate"
   ]
  },
  {
   "cell_type": "code",
   "execution_count": 94,
   "id": "ed4a3561-361d-4585-b8fd-cea0b0c675bf",
   "metadata": {
    "tags": []
   },
   "outputs": [],
   "source": [
    "sysmsg = 'You are {profession}.'"
   ]
  },
  {
   "cell_type": "code",
   "execution_count": 95,
   "id": "0360ff2b-1f9e-4611-88b3-6653e428dc97",
   "metadata": {
    "tags": []
   },
   "outputs": [],
   "source": [
    "systmpl = SystemMessagePromptTemplate.from_template(sysmsg)"
   ]
  },
  {
   "cell_type": "code",
   "execution_count": 100,
   "id": "1ce381d7-63a3-42f0-8ec7-62cad9420e1a",
   "metadata": {
    "tags": []
   },
   "outputs": [],
   "source": [
    "hummsg = 'Give me one line tip to begin my career as a {career_goal}.'"
   ]
  },
  {
   "cell_type": "code",
   "execution_count": 101,
   "id": "48523c3a-8d51-40a3-bc9c-63d648aab8de",
   "metadata": {
    "tags": []
   },
   "outputs": [],
   "source": [
    "humtmpl = HumanMessagePromptTemplate.from_template(hummsg)"
   ]
  },
  {
   "cell_type": "code",
   "execution_count": 102,
   "id": "7038b378-f3ed-4f8a-8c37-ba0eac11a741",
   "metadata": {
    "tags": []
   },
   "outputs": [],
   "source": [
    "chatmsgpmt = ChatPromptTemplate.from_messages([sysmsg, hummsg])"
   ]
  },
  {
   "cell_type": "code",
   "execution_count": 103,
   "id": "be804678-f8fe-4d78-8cd4-3569de4505cf",
   "metadata": {
    "tags": []
   },
   "outputs": [
    {
     "data": {
      "text/plain": [
       "['career_goal', 'profession']"
      ]
     },
     "execution_count": 103,
     "metadata": {},
     "output_type": "execute_result"
    }
   ],
   "source": [
    "chatmsgpmt.input_variables"
   ]
  },
  {
   "cell_type": "code",
   "execution_count": 104,
   "id": "6ab7fe80-7ba4-4645-b05d-f9927146fa58",
   "metadata": {
    "tags": []
   },
   "outputs": [],
   "source": [
    "prompt2 = chatmsgpmt.format_prompt(career_goal = 'Sketch artist', profession = 'Artist' ) "
   ]
  },
  {
   "cell_type": "code",
   "execution_count": 105,
   "id": "68ceefc7-aa3a-4570-9e9f-d446f42fb48c",
   "metadata": {
    "tags": []
   },
   "outputs": [
    {
     "data": {
      "text/plain": [
       "ChatPromptValue(messages=[HumanMessage(content='You are Artist.'), HumanMessage(content='Give me one line tip to begin my career as a Sketch artist.')])"
      ]
     },
     "execution_count": 105,
     "metadata": {},
     "output_type": "execute_result"
    }
   ],
   "source": [
    "prompt2"
   ]
  },
  {
   "cell_type": "code",
   "execution_count": 106,
   "id": "b9bb5d26-1de5-466f-aea6-22b3e306fc1f",
   "metadata": {
    "tags": []
   },
   "outputs": [],
   "source": [
    "result2 = chat.invoke(prompt2)"
   ]
  },
  {
   "cell_type": "code",
   "execution_count": 108,
   "id": "20ae1461-82c1-4fa0-b087-60356842411e",
   "metadata": {
    "tags": []
   },
   "outputs": [
    {
     "name": "stdout",
     "output_type": "stream",
     "text": [
      "\"Start by observing the world around you with a keen eye and sketching anything and everything that captures your interest.\"\n"
     ]
    }
   ],
   "source": [
    "print(result2.content)"
   ]
  }
 ],
 "metadata": {
  "kernelspec": {
   "display_name": "Python 3 (ipykernel)",
   "language": "python",
   "name": "python3"
  },
  "language_info": {
   "codemirror_mode": {
    "name": "ipython",
    "version": 3
   },
   "file_extension": ".py",
   "mimetype": "text/x-python",
   "name": "python",
   "nbconvert_exporter": "python",
   "pygments_lexer": "ipython3",
   "version": "3.11.5"
  }
 },
 "nbformat": 4,
 "nbformat_minor": 5
}
