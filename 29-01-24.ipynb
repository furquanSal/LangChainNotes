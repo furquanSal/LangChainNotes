{
 "cells": [
  {
   "cell_type": "markdown",
   "id": "e24e58af",
   "metadata": {},
   "source": [
    "# January 29, 2024 - Session Notes"
   ]
  },
  {
   "cell_type": "markdown",
   "id": "5fcb9fea",
   "metadata": {},
   "source": [
    "##### 1. Document Loaders\n",
    "A document loader is a function that takes a request for a URL and returns a promise to provide the response content for that URL. The purpose of a document loader is to load resources, such as scripts\n"
   ]
  },
  {
   "cell_type": "markdown",
   "id": "b6d50aed",
   "metadata": {},
   "source": [
    "(i) CSV document loader"
   ]
  },
  {
   "cell_type": "code",
   "execution_count": null,
   "id": "cefc6dae",
   "metadata": {},
   "outputs": [],
   "source": [
    "from langchain_community.document_loaders import CSVLoader"
   ]
  },
  {
   "cell_type": "code",
   "execution_count": null,
   "id": "e18a0905",
   "metadata": {},
   "outputs": [],
   "source": [
    "loader = CSVLoader(file_path=\"./Data_Samples/penguins.csv\")"
   ]
  },
  {
   "cell_type": "code",
   "execution_count": null,
   "id": "9047a667",
   "metadata": {},
   "outputs": [],
   "source": [
    "data =loader.load()"
   ]
  },
  {
   "cell_type": "code",
   "execution_count": null,
   "id": "7d296c54",
   "metadata": {},
   "outputs": [],
   "source": [
    "print(data[308].page_content)"
   ]
  },
  {
   "cell_type": "markdown",
   "id": "3dbe1e1e",
   "metadata": {},
   "source": [
    "(ii) HTML files document loader"
   ]
  },
  {
   "cell_type": "code",
   "execution_count": null,
   "id": "3005b846",
   "metadata": {},
   "outputs": [],
   "source": [
    "from langchain_community.document_loaders import BSHTMLLoader"
   ]
  },
  {
   "cell_type": "code",
   "execution_count": null,
   "id": "c7faff37",
   "metadata": {},
   "outputs": [],
   "source": [
    "BSloader = BSHTMLLoader(file_path=\"./Data_Samples/sample.html\")"
   ]
  },
  {
   "cell_type": "code",
   "execution_count": null,
   "id": "6f5579e3",
   "metadata": {},
   "outputs": [],
   "source": [
    "htmldata = BSloader.load()"
   ]
  },
  {
   "cell_type": "code",
   "execution_count": null,
   "id": "8078c687",
   "metadata": {},
   "outputs": [],
   "source": [
    "htmldata[0].page_content"
   ]
  },
  {
   "cell_type": "code",
   "execution_count": null,
   "id": "bb2110d1",
   "metadata": {},
   "outputs": [],
   "source": [
    "htmldata[0].metadata"
   ]
  },
  {
   "cell_type": "markdown",
   "id": "ab0e7069",
   "metadata": {},
   "source": [
    "(iii) PDF Document Loader"
   ]
  },
  {
   "cell_type": "code",
   "execution_count": null,
   "id": "b295acbb",
   "metadata": {},
   "outputs": [],
   "source": [
    "from langchain_community.document_loaders import PyPDFLoader"
   ]
  },
  {
   "cell_type": "code",
   "execution_count": 6,
   "id": "ad622625",
   "metadata": {},
   "outputs": [],
   "source": [
    "prasadloader = PyPDFLoader(file_path=\"./Data_Samples/Signulu - User Manual.pdf\")"
   ]
  },
  {
   "cell_type": "code",
   "execution_count": 7,
   "id": "7ef5978e",
   "metadata": {},
   "outputs": [],
   "source": [
    "prasadpdfdata = prasadloader.load()"
   ]
  },
  {
   "cell_type": "code",
   "execution_count": 8,
   "id": "08aba298",
   "metadata": {},
   "outputs": [
    {
     "name": "stdout",
     "output_type": "stream",
     "text": [
      "36\n"
     ]
    }
   ],
   "source": [
    "print(len(prasadpdfdata))"
   ]
  },
  {
   "cell_type": "markdown",
   "id": "21924add",
   "metadata": {},
   "source": [
    "(iv) Y-Combinator News Document Loader"
   ]
  },
  {
   "cell_type": "code",
   "execution_count": null,
   "id": "199cd4f1",
   "metadata": {},
   "outputs": [],
   "source": [
    "from langchain_community.document_loaders import HNLoader"
   ]
  },
  {
   "cell_type": "code",
   "execution_count": null,
   "id": "6b39dd4e",
   "metadata": {},
   "outputs": [],
   "source": [
    "HNloader = HNLoader(web_path=\"https://news.ycombinator.com/item?id=30084169\")"
   ]
  },
  {
   "cell_type": "code",
   "execution_count": null,
   "id": "0bade99d",
   "metadata": {},
   "outputs": [],
   "source": [
    "HNdata = HNloader.load()"
   ]
  },
  {
   "cell_type": "code",
   "execution_count": null,
   "id": "6b5c705a",
   "metadata": {},
   "outputs": [],
   "source": [
    "HNdata[5].metadata"
   ]
  },
  {
   "cell_type": "markdown",
   "id": "759f435e",
   "metadata": {},
   "source": [
    "(v) Wikipedia Document Loader"
   ]
  },
  {
   "cell_type": "code",
   "execution_count": null,
   "id": "d70d8815",
   "metadata": {},
   "outputs": [],
   "source": [
    "from langchain_community.document_loaders import WikipediaLoader"
   ]
  },
  {
   "cell_type": "code",
   "execution_count": null,
   "id": "065064ae",
   "metadata": {},
   "outputs": [],
   "source": [
    "loader = WikipediaLoader(query=\"Mahatma Gandhi\")"
   ]
  },
  {
   "cell_type": "code",
   "execution_count": null,
   "id": "3f124f94",
   "metadata": {},
   "outputs": [],
   "source": [
    "data = loader.load()"
   ]
  },
  {
   "cell_type": "code",
   "execution_count": null,
   "id": "f2f2570f",
   "metadata": {},
   "outputs": [],
   "source": [
    "print(data)"
   ]
  },
  {
   "cell_type": "markdown",
   "id": "bfefc68e",
   "metadata": {},
   "source": [
    "##### 2. Prompt Template + Document Loader"
   ]
  },
  {
   "cell_type": "code",
   "execution_count": null,
   "id": "fc438a41",
   "metadata": {},
   "outputs": [],
   "source": [
    "from langchain_core.prompts import ChatPromptTemplate, HumanMessagePromptTemplate,SystemMessagePromptTemplate"
   ]
  },
  {
   "cell_type": "code",
   "execution_count": null,
   "id": "43463837",
   "metadata": {},
   "outputs": [],
   "source": [
    "from langchain_openai import ChatOpenAI"
   ]
  },
  {
   "cell_type": "code",
   "execution_count": null,
   "id": "a059c2ee",
   "metadata": {},
   "outputs": [],
   "source": [
    "chat = ChatOpenAI()"
   ]
  },
  {
   "cell_type": "code",
   "execution_count": null,
   "id": "7ed21b56",
   "metadata": {},
   "outputs": [],
   "source": [
    "human_prompt = HumanMessagePromptTemplate.from_template(\"\"\"\n",
    "Please give me a single sentence summary of the following:\\n\n",
    "{document_context}\n",
    "\"\"\")"
   ]
  },
  {
   "cell_type": "code",
   "execution_count": null,
   "id": "5916a13d",
   "metadata": {},
   "outputs": [],
   "source": [
    "chat_prompt = ChatPromptTemplate.from_messages([human_prompt])"
   ]
  },
  {
   "cell_type": "code",
   "execution_count": null,
   "id": "03a0b822",
   "metadata": {},
   "outputs": [],
   "source": [
    "prompt=chat_prompt.format_prompt(document_context=HNdata[5].page_content)"
   ]
  },
  {
   "cell_type": "code",
   "execution_count": null,
   "id": "ba66bc9c",
   "metadata": {},
   "outputs": [],
   "source": [
    "print (prompt.messages[0].content)"
   ]
  },
  {
   "cell_type": "code",
   "execution_count": null,
   "id": "6bd37ce3",
   "metadata": {},
   "outputs": [],
   "source": [
    "result = chat.invoke(prompt)"
   ]
  },
  {
   "cell_type": "code",
   "execution_count": null,
   "id": "16982156",
   "metadata": {},
   "outputs": [],
   "source": [
    "print(result.content)"
   ]
  },
  {
   "cell_type": "markdown",
   "id": "5383f1f1",
   "metadata": {},
   "source": [
    "<<< End of Document >>>"
   ]
  }
 ],
 "metadata": {
  "kernelspec": {
   "display_name": "Python 3 (ipykernel)",
   "language": "python",
   "name": "python3"
  },
  "language_info": {
   "codemirror_mode": {
    "name": "ipython",
    "version": 3
   },
   "file_extension": ".py",
   "mimetype": "text/x-python",
   "name": "python",
   "nbconvert_exporter": "python",
   "pygments_lexer": "ipython3",
   "version": "3.11.5"
  }
 },
 "nbformat": 4,
 "nbformat_minor": 5
}
