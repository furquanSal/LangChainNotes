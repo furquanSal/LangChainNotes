{
 "cells": [
  {
   "cell_type": "markdown",
   "metadata": {},
   "source": [
    "# February 13, 2024 - Session Notes"
   ]
  },
  {
   "cell_type": "markdown",
   "metadata": {},
   "source": [
    "##### 1. Agents\n",
    "\n",
    "__Agents__ in Langchain are enabling tools for Large Language Models (LLMs) that allow them to perform tasks such as solving math problems, searching for information, writing and executing Python code, and querying a SQL database. Agents can be initialized with a list of tools, which are utility chains given a tool name and description. LLMs can then use these tools to perform specific tasks. For example, a calculator tool can be used to solve math problems, and a SQL DB tool can be used to query a database. Langchain offers several types of agents, including the zero-shot-react-description agent, which performs zero-shot tasks on some input without memory. Agents can be used to enhance the capabilities of LLMs and enable them to perform a wider range of tasks.\n",
    "\n",
    "Steps to use agents\n",
    "- Choose Tools/Toolkits that your project requires\n",
    "- Pick an appropriate agent of your choice\n",
    "- Instantiate the agent\n",
    "- Execute/run the agent"
   ]
  },
  {
   "cell_type": "code",
   "execution_count": 16,
   "metadata": {},
   "outputs": [],
   "source": [
    "# importing libraries\n",
    "from langchain_google_genai import ChatGoogleGenerativeAI\n",
    "from langchain.agents import Tool, load_tools, create_react_agent, AgentExecutor\n",
    "from langchain.utilities import SerpAPIWrapper\n",
    "from langchain.chains import LLMMathChain\n",
    "from langchain import hub"
   ]
  },
  {
   "cell_type": "code",
   "execution_count": 21,
   "metadata": {},
   "outputs": [],
   "source": [
    "chat = ChatGoogleGenerativeAI(model='gemini-pro')\n",
    "google_search = SerpAPIWrapper()\n",
    "calculator = LLMMathChain.from_llm(llm=chat)\n",
    "prompt = hub.pull('hwchase17/react')"
   ]
  },
  {
   "cell_type": "code",
   "execution_count": 22,
   "metadata": {},
   "outputs": [],
   "source": [
    "query = \"What is $10 USD multiplied by 56 when converted to INR?\""
   ]
  },
  {
   "cell_type": "code",
   "execution_count": 23,
   "metadata": {},
   "outputs": [],
   "source": [
    "tools = [\n",
    "    Tool(\n",
    "        name = \"Currency Rates\",\n",
    "        func = google_search.run,\n",
    "        description=u\"Search for currency rates on Google.\",\n",
    "    ),\n",
    "    Tool(\n",
    "        name= \"calculator\",\n",
    "        func = calculator.run,\n",
    "        description = \"useful when there is need of calculation like converting currencies by multiplying\",\n",
    "    )\n",
    "]"
   ]
  },
  {
   "cell_type": "code",
   "execution_count": 24,
   "metadata": {},
   "outputs": [],
   "source": [
    "agent = create_react_agent(llm=chat, tools=tools, prompt=prompt)"
   ]
  },
  {
   "cell_type": "code",
   "execution_count": 25,
   "metadata": {},
   "outputs": [],
   "source": [
    "agent_executer = AgentExecutor(agent=agent, tools=tools, verbose=True)"
   ]
  },
  {
   "cell_type": "code",
   "execution_count": 26,
   "metadata": {},
   "outputs": [
    {
     "name": "stdout",
     "output_type": "stream",
     "text": [
      "\n",
      "\n",
      "\u001b[1m> Entering new AgentExecutor chain...\u001b[0m\n",
      "\u001b[32;1m\u001b[1;3mI should multiply 10 by 56 to get the total USD amount and then convert it to INR using the current exchange rate.\n",
      "Action: calculator\n",
      "Action Input: 10 * 56\u001b[0m\u001b[33;1m\u001b[1;3mAnswer: 560\u001b[0m\u001b[32;1m\u001b[1;3mNow I need to convert 560 USD to INR using the current exchange rate.\n",
      "Action: Currency Rates\n",
      "Action Input: 560 USD in INR\u001b[0m\u001b[36;1m\u001b[1;3m46,510.24 Indian Rupee\u001b[0m\u001b[32;1m\u001b[1;3mI now know the final answer\n",
      "Final Answer: 46,510.24 Indian Rupee\u001b[0m\n",
      "\n",
      "\u001b[1m> Finished chain.\u001b[0m\n"
     ]
    }
   ],
   "source": [
    "result = agent_executer.invoke({'input':query})"
   ]
  },
  {
   "cell_type": "code",
   "execution_count": 29,
   "metadata": {},
   "outputs": [
    {
     "name": "stdout",
     "output_type": "stream",
     "text": [
      "46,510.24 Indian Rupee\n"
     ]
    }
   ],
   "source": [
    "print(result['output'])"
   ]
  },
  {
   "cell_type": "markdown",
   "metadata": {},
   "source": [
    "<<< End Of Document >>>"
   ]
  }
 ],
 "metadata": {
  "kernelspec": {
   "display_name": "Python 3",
   "language": "python",
   "name": "python3"
  },
  "language_info": {
   "codemirror_mode": {
    "name": "ipython",
    "version": 3
   },
   "file_extension": ".py",
   "mimetype": "text/x-python",
   "name": "python",
   "nbconvert_exporter": "python",
   "pygments_lexer": "ipython3",
   "version": "3.12.0"
  }
 },
 "nbformat": 4,
 "nbformat_minor": 2
}
