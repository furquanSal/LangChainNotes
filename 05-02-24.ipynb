{
 "cells": [
  {
   "cell_type": "markdown",
   "metadata": {},
   "source": [
    "# Feburary 05, 2024 - Session Notes"
   ]
  },
  {
   "cell_type": "markdown",
   "metadata": {},
   "source": [
    "LLMChains and SimpleSequentialChains "
   ]
  },
  {
   "cell_type": "code",
   "execution_count": 36,
   "metadata": {},
   "outputs": [],
   "source": [
    "from langchain.prompts.chat import (\n",
    "    ChatPromptTemplate,\n",
    "    HumanMessagePromptTemplate\n",
    ")\n",
    "from langchain_google_genai.chat_models import ChatGoogleGenerativeAI\n",
    "from langchain.chains import LLMChain, SimpleSequentialChain\n",
    "import os"
   ]
  },
  {
   "cell_type": "code",
   "execution_count": 37,
   "metadata": {},
   "outputs": [],
   "source": [
    "chat_model = ChatGoogleGenerativeAI(google_api_key=os.getenv(\"GOOGLEAI_API_KEY\"), model=\"gemini-pro\", temperature=0)"
   ]
  },
  {
   "cell_type": "markdown",
   "metadata": {},
   "source": [
    "##### 1. LLMChain"
   ]
  },
  {
   "cell_type": "code",
   "execution_count": 38,
   "metadata": {},
   "outputs": [],
   "source": [
    "humMsgPmtTmpl = HumanMessagePromptTemplate.from_template(\"Generate a company name for {product}\")"
   ]
  },
  {
   "cell_type": "code",
   "execution_count": 39,
   "metadata": {},
   "outputs": [],
   "source": [
    "chatPmt = ChatPromptTemplate.from_messages([humMsgPmtTmpl])"
   ]
  },
  {
   "cell_type": "code",
   "execution_count": 40,
   "metadata": {},
   "outputs": [],
   "source": [
    "chainLLM = LLMChain(llm=chat_model, prompt=chatPmt)"
   ]
  },
  {
   "cell_type": "code",
   "execution_count": 41,
   "metadata": {},
   "outputs": [],
   "source": [
    "result = chainLLM.invoke(input={\n",
    "    \"product\" : \"Tea Stall\"\n",
    "    })"
   ]
  },
  {
   "cell_type": "code",
   "execution_count": 42,
   "metadata": {},
   "outputs": [
    {
     "name": "stdout",
     "output_type": "stream",
     "text": [
      "1. Tea Haven\n",
      "2. Chai Adda\n",
      "3. Tea Time\n",
      "4. The Tea Room\n",
      "5. Tea & Tales\n",
      "6. The Tea House\n",
      "7. Tea & Company\n",
      "8. Tea & Biscuits\n",
      "9. Tea & Crumpets\n",
      "10. The Tea Emporium\n"
     ]
    }
   ],
   "source": [
    "print(result['text'])"
   ]
  },
  {
   "cell_type": "markdown",
   "metadata": {},
   "source": [
    "##### 2. LLm Chians and Simple Sequential Chain"
   ]
  },
  {
   "cell_type": "code",
   "execution_count": 43,
   "metadata": {},
   "outputs": [],
   "source": [
    "template1 = \"Generate an ouline for the {topic} blog post\"\n",
    "first_pmt = HumanMessagePromptTemplate.from_template(template=template1)\n",
    "first_chat_pmt = ChatPromptTemplate.from_messages([first_pmt])\n",
    "first_chain = LLMChain(llm=chat_model, prompt=first_chat_pmt)"
   ]
  },
  {
   "cell_type": "code",
   "execution_count": 44,
   "metadata": {},
   "outputs": [],
   "source": [
    "template2 = \"Generate a blog using the the given outline \\n {outline}. You can also add emojis to make it more attractive and eye catching blog.\"\n",
    "second_pmt = HumanMessagePromptTemplate.from_template(template=template2)\n",
    "second_chat_pmt = ChatPromptTemplate.from_messages([second_pmt])\n",
    "second_chain = LLMChain(llm=chat_model, prompt=second_chat_pmt)"
   ]
  },
  {
   "cell_type": "code",
   "execution_count": 45,
   "metadata": {},
   "outputs": [],
   "source": [
    "full_chain = SimpleSequentialChain(chains=[first_chain, second_chain], verbose=True)"
   ]
  },
  {
   "cell_type": "code",
   "execution_count": 46,
   "metadata": {},
   "outputs": [
    {
     "name": "stdout",
     "output_type": "stream",
     "text": [
      "\n",
      "\n",
      "\u001b[1m> Entering new SimpleSequentialChain chain...\u001b[0m\n",
      "\u001b[36;1m\u001b[1;3mI. Introduction\n",
      "    A. Overview of LangChain\n",
      "    B. Benefits of using LangChain\n",
      "    C. Target audience\n",
      "\n",
      "II. Getting Started with LangChain\n",
      "    A. Prerequisites\n",
      "        1. Python environment\n",
      "        2. Installation of LangChain\n",
      "    B. Creating a LangChain project\n",
      "    C. Adding languages to the project\n",
      "\n",
      "III. Building a Language Model with LangChain\n",
      "    A. Preparing the training data\n",
      "        1. Gathering text data in different languages\n",
      "        2. Preprocessing the data\n",
      "    B. Training the language model\n",
      "        1. Choosing the appropriate model architecture\n",
      "        2. Setting the training parameters\n",
      "        3. Initiating the training process\n",
      "    C. Evaluating the trained model\n",
      "        1. Calculating metrics such as perplexity and accuracy\n",
      "        2. Analyzing the model's performance\n",
      "\n",
      "IV. Using the Language Model for Translation\n",
      "    A. Translating text from one language to another\n",
      "        1. Loading the trained language model\n",
      "        2. Specifying the source and target languages\n",
      "        3. Translating the input text\n",
      "    B. Handling unknown words and phrases\n",
      "        1. Techniques for dealing with out-of-vocabulary words\n",
      "        2. Strategies for improving translation quality\n",
      "\n",
      "V. Advanced Applications of LangChain\n",
      "    A. Multilingual text classification\n",
      "        1. Preparing the training data\n",
      "        2. Training the classification model\n",
      "        3. Evaluating the model's performance\n",
      "    B. Cross-lingual information retrieval\n",
      "        1. Indexing multilingual documents\n",
      "        2. Querying the index using different languages\n",
      "        3. Ranking and retrieving relevant documents\n",
      "\n",
      "VI. Conclusion\n",
      "    A. Summary of the key points\n",
      "    B. Future directions for LangChain\n",
      "    C. Call to action\u001b[0m\n",
      "\u001b[33;1m\u001b[1;3m**Title: Unleashing the Power of Multilingual AI with LangChain: A Comprehensive Guide** 🌐\n",
      "\n",
      "**Introduction:**\n",
      "\n",
      "In today's interconnected world, the ability to communicate and understand multiple languages is more crucial than ever. LangChain, a cutting-edge multilingual AI platform, empowers developers and researchers to build powerful language models that can translate, classify, and retrieve information across different languages. 🌍\n",
      "\n",
      "**Benefits of using LangChain:**\n",
      "\n",
      "- **Multilingual Mastery:** LangChain enables the creation of language models that can understand and generate text in multiple languages, breaking down language barriers and fostering global communication. 🗣️\n",
      "- **Seamless Translation:** LangChain's language models excel at translating text from one language to another, preserving the meaning and context of the original content. 🌐\n",
      "- **Cross-lingual Understanding:** LangChain facilitates the development of models that can classify and retrieve information from multilingual sources, enabling seamless access to knowledge regardless of language. 📚\n",
      "\n",
      "**Target Audience:**\n",
      "\n",
      "- **Developers:** LangChain is designed for developers who want to build multilingual AI applications, such as translation tools, chatbots, and multilingual search engines. 💻\n",
      "- **Researchers:** LangChain provides a powerful platform for researchers exploring multilingual natural language processing, machine translation, and cross-lingual information retrieval. 🔬\n",
      "- **Businesses:** Businesses seeking to expand their global reach and cater to diverse audiences can leverage LangChain to develop multilingual solutions that enhance customer engagement and satisfaction. 🤝\n",
      "\n",
      "**Getting Started with LangChain:**\n",
      "\n",
      "- **Prerequisites:**\n",
      "  - Python environment: Ensure you have a Python environment set up on your system. 🐍\n",
      "  - LangChain installation: Install LangChain using the provided instructions. 📥\n",
      "- **Creating a LangChain Project:**\n",
      "  - Set up a new LangChain project to organize your multilingual AI endeavors. 📁\n",
      "- **Adding Languages to the Project:**\n",
      "  - Specify the languages you want your language model to support. 🌐\n",
      "\n",
      "**Building a Language Model with LangChain:**\n",
      "\n",
      "- **Preparing the Training Data:**\n",
      "  - Gather text data in the desired languages. 📚\n",
      "  - Preprocess the data to ensure it's in a suitable format for training. 🛠️\n",
      "- **Training the Language Model:**\n",
      "  - Select an appropriate model architecture for your task. 🧠\n",
      "  - Set the training parameters and initiate the training process. ⚙️\n",
      "- **Evaluating the Trained Model:**\n",
      "  - Calculate metrics like perplexity and accuracy to assess the model's performance. 📊\n",
      "  - Analyze the model's behavior and identify areas for improvement. 🔎\n",
      "\n",
      "**Using the Language Model for Translation:**\n",
      "\n",
      "- **Translating Text:**\n",
      "  - Load the trained language model and specify the source and target languages. 🌐\n",
      "  - Translate input text from one language to another with ease. 🗣️\n",
      "- **Handling Unknown Words and Phrases:**\n",
      "  - Explore techniques for dealing with out-of-vocabulary words. 🤔\n",
      "  - Implement strategies to improve translation quality even in challenging scenarios. 💡\n",
      "\n",
      "**Advanced Applications of LangChain:**\n",
      "\n",
      "- **Multilingual Text Classification:**\n",
      "  - Prepare training data with labeled text in multiple languages. 📚\n",
      "  - Train a classification model to categorize text into predefined classes. 🏷️\n",
      "  - Evaluate the model's performance and fine-tune it for optimal results. 📈\n",
      "- **Cross-lingual Information Retrieval:**\n",
      "  - Index multilingual documents to make them searchable. 🗃️\n",
      "  - Query the index using different languages to retrieve relevant documents. 🔎\n",
      "  - Rank and present the most relevant documents to the user. 🏆\n",
      "\n",
      "**Conclusion:**\n",
      "\n",
      "LangChain empowers developers and researchers to create multilingual AI applications that break down language barriers and foster global communication. With its ability to translate, classify, and retrieve information across languages, LangChain opens up a world of possibilities for multilingual AI innovation. 🌍\n",
      "\n",
      "**Future Directions for LangChain:**\n",
      "\n",
      "- **Expanding Language Support:** LangChain is continuously expanding its support for new languages, enabling even broader multilingual applications. 🌐\n",
      "- **Enhancing Translation Quality:** Ongoing research aims to improve the translation quality of LangChain's language models, ensuring accurate and natural translations. 🗣️\n",
      "- **Developing New Applications:** The LangChain team is exploring novel applications of multilingual AI, such as multilingual dialogue systems and cross-lingual question answering. 💡\n",
      "\n",
      "**Call to Action:**\n",
      "\n",
      "Join the LangChain community and embark on your multilingual AI journey today! Whether you're a developer, researcher, or business, LangChain provides the tools and resources you need to build innovative multilingual solutions that make a global impact. 🤝\u001b[0m\n",
      "\n",
      "\u001b[1m> Finished chain.\u001b[0m\n"
     ]
    }
   ],
   "source": [
    "result = full_chain.invoke(\"LangChain with Python\")"
   ]
  },
  {
   "cell_type": "markdown",
   "metadata": {},
   "source": [
    "<<< End Of Document >>>"
   ]
  }
 ],
 "metadata": {
  "kernelspec": {
   "display_name": "Python 3 (ipykernel)",
   "language": "python",
   "name": "python3"
  },
  "language_info": {
   "codemirror_mode": {
    "name": "ipython",
    "version": 3
   },
   "file_extension": ".py",
   "mimetype": "text/x-python",
   "name": "python",
   "nbconvert_exporter": "python",
   "pygments_lexer": "ipython3",
   "version": "3.11.5"
  }
 },
 "nbformat": 4,
 "nbformat_minor": 2
}
