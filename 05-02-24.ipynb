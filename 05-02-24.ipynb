{
 "cells": [
  {
   "cell_type": "markdown",
   "metadata": {},
   "source": [
    "# Feburary 05, 2024 - Session Notes"
   ]
  },
  {
   "cell_type": "markdown",
   "metadata": {},
   "source": [
    "LLMChains, SimpleSequentialChains and Sequential Chains "
   ]
  },
  {
   "cell_type": "code",
   "execution_count": 8,
   "metadata": {},
   "outputs": [],
   "source": [
    "# Importing Necessary Libraries \n",
    "\n",
    "from langchain.prompts.chat import (\n",
    "    ChatPromptTemplate,\n",
    "    HumanMessagePromptTemplate\n",
    ")\n",
    "from langchain_google_genai.chat_models import ChatGoogleGenerativeAI\n",
    "from langchain.chains import LLMChain, SimpleSequentialChain, SequentialChain\n",
    "import os"
   ]
  },
  {
   "cell_type": "code",
   "execution_count": 9,
   "metadata": {},
   "outputs": [],
   "source": [
    "chat_model = ChatGoogleGenerativeAI(google_api_key=os.getenv(\"GOOGLEAI_API_KEY\"), model=\"gemini-pro\", temperature=0)"
   ]
  },
  {
   "cell_type": "markdown",
   "metadata": {},
   "source": [
    "##### 1. LLMChain"
   ]
  },
  {
   "cell_type": "code",
   "execution_count": 38,
   "metadata": {},
   "outputs": [],
   "source": [
    "humMsgPmtTmpl = HumanMessagePromptTemplate.from_template(\"Generate a company name for {product}\")"
   ]
  },
  {
   "cell_type": "code",
   "execution_count": 39,
   "metadata": {},
   "outputs": [],
   "source": [
    "chatPmt = ChatPromptTemplate.from_messages([humMsgPmtTmpl])"
   ]
  },
  {
   "cell_type": "code",
   "execution_count": 40,
   "metadata": {},
   "outputs": [],
   "source": [
    "chainLLM = LLMChain(llm=chat_model, prompt=chatPmt)"
   ]
  },
  {
   "cell_type": "code",
   "execution_count": 41,
   "metadata": {},
   "outputs": [],
   "source": [
    "result = chainLLM.invoke(input={\n",
    "    \"product\" : \"Tea Stall\"\n",
    "    })"
   ]
  },
  {
   "cell_type": "code",
   "execution_count": 42,
   "metadata": {},
   "outputs": [
    {
     "name": "stdout",
     "output_type": "stream",
     "text": [
      "1. Tea Haven\n",
      "2. Chai Adda\n",
      "3. Tea Time\n",
      "4. The Tea Room\n",
      "5. Tea & Tales\n",
      "6. The Tea House\n",
      "7. Tea & Company\n",
      "8. Tea & Biscuits\n",
      "9. Tea & Crumpets\n",
      "10. The Tea Emporium\n"
     ]
    }
   ],
   "source": [
    "print(result['text'])"
   ]
  },
  {
   "cell_type": "markdown",
   "metadata": {},
   "source": [
    "##### 2. LLM Chians and Simple Sequential Chain"
   ]
  },
  {
   "cell_type": "code",
   "execution_count": 43,
   "metadata": {},
   "outputs": [],
   "source": [
    "template1 = \"Generate an ouline for the {topic} blog post\"\n",
    "first_pmt = HumanMessagePromptTemplate.from_template(template=template1)\n",
    "first_chat_pmt = ChatPromptTemplate.from_messages([first_pmt])\n",
    "first_chain = LLMChain(llm=chat_model, prompt=first_chat_pmt)"
   ]
  },
  {
   "cell_type": "code",
   "execution_count": 44,
   "metadata": {},
   "outputs": [],
   "source": [
    "template2 = \"Generate a blog using the the given outline \\n {outline}. You can also add emojis to make it more attractive and eye catching blog.\"\n",
    "second_pmt = HumanMessagePromptTemplate.from_template(template=template2)\n",
    "second_chat_pmt = ChatPromptTemplate.from_messages([second_pmt])\n",
    "second_chain = LLMChain(llm=chat_model, prompt=second_chat_pmt)"
   ]
  },
  {
   "cell_type": "code",
   "execution_count": 45,
   "metadata": {},
   "outputs": [],
   "source": [
    "full_chain = SimpleSequentialChain(chains=[first_chain, second_chain], verbose=True)"
   ]
  },
  {
   "cell_type": "code",
   "execution_count": 46,
   "metadata": {},
   "outputs": [
    {
     "name": "stdout",
     "output_type": "stream",
     "text": [
      "\n",
      "\n",
      "\u001b[1m> Entering new SimpleSequentialChain chain...\u001b[0m\n",
      "\u001b[36;1m\u001b[1;3mI. Introduction\n",
      "    A. Overview of LangChain\n",
      "    B. Benefits of using LangChain\n",
      "    C. Target audience\n",
      "\n",
      "II. Getting Started with LangChain\n",
      "    A. Prerequisites\n",
      "        1. Python environment\n",
      "        2. Installation of LangChain\n",
      "    B. Creating a LangChain project\n",
      "    C. Adding languages to the project\n",
      "\n",
      "III. Building a Language Model with LangChain\n",
      "    A. Preparing the training data\n",
      "        1. Gathering text data in different languages\n",
      "        2. Preprocessing the data\n",
      "    B. Training the language model\n",
      "        1. Choosing the appropriate model architecture\n",
      "        2. Setting the training parameters\n",
      "        3. Initiating the training process\n",
      "    C. Evaluating the trained model\n",
      "        1. Calculating metrics such as perplexity and accuracy\n",
      "        2. Analyzing the model's performance\n",
      "\n",
      "IV. Using the Language Model for Translation\n",
      "    A. Translating text from one language to another\n",
      "        1. Loading the trained language model\n",
      "        2. Specifying the source and target languages\n",
      "        3. Translating the input text\n",
      "    B. Handling unknown words and phrases\n",
      "        1. Techniques for dealing with out-of-vocabulary words\n",
      "        2. Strategies for improving translation quality\n",
      "\n",
      "V. Advanced Applications of LangChain\n",
      "    A. Multilingual text classification\n",
      "        1. Preparing the training data\n",
      "        2. Training the classification model\n",
      "        3. Evaluating the model's performance\n",
      "    B. Cross-lingual information retrieval\n",
      "        1. Indexing multilingual documents\n",
      "        2. Querying the index using different languages\n",
      "        3. Ranking and retrieving relevant documents\n",
      "\n",
      "VI. Conclusion\n",
      "    A. Summary of the key points\n",
      "    B. Future directions for LangChain\n",
      "    C. Call to action\u001b[0m\n",
      "\u001b[33;1m\u001b[1;3m**Title: Unleashing the Power of Multilingual AI with LangChain: A Comprehensive Guide** 🌐\n",
      "\n",
      "**Introduction:**\n",
      "\n",
      "In today's interconnected world, the ability to communicate and understand multiple languages is more crucial than ever. LangChain, a cutting-edge multilingual AI platform, empowers developers and researchers to build powerful language models that can translate, classify, and retrieve information across different languages. 🌍\n",
      "\n",
      "**Benefits of using LangChain:**\n",
      "\n",
      "- **Multilingual Mastery:** LangChain enables the creation of language models that can understand and generate text in multiple languages, breaking down language barriers and fostering global communication. 🗣️\n",
      "- **Seamless Translation:** LangChain's language models excel at translating text from one language to another, preserving the meaning and context of the original content. 🌐\n",
      "- **Cross-lingual Understanding:** LangChain facilitates the development of models that can classify and retrieve information from multilingual sources, enabling seamless access to knowledge regardless of language. 📚\n",
      "\n",
      "**Target Audience:**\n",
      "\n",
      "- **Developers:** LangChain is designed for developers who want to build multilingual AI applications, such as translation tools, chatbots, and multilingual search engines. 💻\n",
      "- **Researchers:** LangChain provides a powerful platform for researchers exploring multilingual natural language processing, machine translation, and cross-lingual information retrieval. 🔬\n",
      "- **Businesses:** Businesses seeking to expand their global reach and cater to diverse audiences can leverage LangChain to develop multilingual solutions that enhance customer engagement and satisfaction. 🤝\n",
      "\n",
      "**Getting Started with LangChain:**\n",
      "\n",
      "- **Prerequisites:**\n",
      "  - Python environment: Ensure you have a Python environment set up on your system. 🐍\n",
      "  - LangChain installation: Install LangChain using the provided instructions. 📥\n",
      "- **Creating a LangChain Project:**\n",
      "  - Set up a new LangChain project to organize your multilingual AI endeavors. 📁\n",
      "- **Adding Languages to the Project:**\n",
      "  - Specify the languages you want your language model to support. 🌐\n",
      "\n",
      "**Building a Language Model with LangChain:**\n",
      "\n",
      "- **Preparing the Training Data:**\n",
      "  - Gather text data in the desired languages. 📚\n",
      "  - Preprocess the data to ensure it's in a suitable format for training. 🛠️\n",
      "- **Training the Language Model:**\n",
      "  - Select an appropriate model architecture for your task. 🧠\n",
      "  - Set the training parameters and initiate the training process. ⚙️\n",
      "- **Evaluating the Trained Model:**\n",
      "  - Calculate metrics like perplexity and accuracy to assess the model's performance. 📊\n",
      "  - Analyze the model's behavior and identify areas for improvement. 🔎\n",
      "\n",
      "**Using the Language Model for Translation:**\n",
      "\n",
      "- **Translating Text:**\n",
      "  - Load the trained language model and specify the source and target languages. 🌐\n",
      "  - Translate input text from one language to another with ease. 🗣️\n",
      "- **Handling Unknown Words and Phrases:**\n",
      "  - Explore techniques for dealing with out-of-vocabulary words. 🤔\n",
      "  - Implement strategies to improve translation quality even in challenging scenarios. 💡\n",
      "\n",
      "**Advanced Applications of LangChain:**\n",
      "\n",
      "- **Multilingual Text Classification:**\n",
      "  - Prepare training data with labeled text in multiple languages. 📚\n",
      "  - Train a classification model to categorize text into predefined classes. 🏷️\n",
      "  - Evaluate the model's performance and fine-tune it for optimal results. 📈\n",
      "- **Cross-lingual Information Retrieval:**\n",
      "  - Index multilingual documents to make them searchable. 🗃️\n",
      "  - Query the index using different languages to retrieve relevant documents. 🔎\n",
      "  - Rank and present the most relevant documents to the user. 🏆\n",
      "\n",
      "**Conclusion:**\n",
      "\n",
      "LangChain empowers developers and researchers to create multilingual AI applications that break down language barriers and foster global communication. With its ability to translate, classify, and retrieve information across languages, LangChain opens up a world of possibilities for multilingual AI innovation. 🌍\n",
      "\n",
      "**Future Directions for LangChain:**\n",
      "\n",
      "- **Expanding Language Support:** LangChain is continuously expanding its support for new languages, enabling even broader multilingual applications. 🌐\n",
      "- **Enhancing Translation Quality:** Ongoing research aims to improve the translation quality of LangChain's language models, ensuring accurate and natural translations. 🗣️\n",
      "- **Developing New Applications:** The LangChain team is exploring novel applications of multilingual AI, such as multilingual dialogue systems and cross-lingual question answering. 💡\n",
      "\n",
      "**Call to Action:**\n",
      "\n",
      "Join the LangChain community and embark on your multilingual AI journey today! Whether you're a developer, researcher, or business, LangChain provides the tools and resources you need to build innovative multilingual solutions that make a global impact. 🤝\u001b[0m\n",
      "\n",
      "\u001b[1m> Finished chain.\u001b[0m\n"
     ]
    }
   ],
   "source": [
    "result = full_chain.invoke(\"LangChain with Python\")"
   ]
  },
  {
   "cell_type": "markdown",
   "metadata": {},
   "source": [
    "##### 3. Sequential Chain"
   ]
  },
  {
   "cell_type": "code",
   "execution_count": 10,
   "metadata": {},
   "outputs": [],
   "source": [
    "template1 = \"Give a summary of employee's performance review : \\n {review_text}\" \n",
    "prompt1 = HumanMessagePromptTemplate.from_template(template=template1)\n",
    "chat_prompt1 = ChatPromptTemplate.from_messages([prompt1])\n",
    "chain1 = LLMChain(llm=chat_model, prompt=chat_prompt1, output_key=\"review_summary\")"
   ]
  },
  {
   "cell_type": "code",
   "execution_count": 11,
   "metadata": {},
   "outputs": [],
   "source": [
    "template2 = \"Identify key weaknesses of the employee from this review summary: \\n{review_summary}\" \n",
    "prompt2 = HumanMessagePromptTemplate.from_template(template=template2)\n",
    "chat_prompt2 = ChatPromptTemplate.from_messages([prompt2])\n",
    "chain2 = LLMChain(llm=chat_model, prompt=chat_prompt2, output_key=\"weaknesses\")"
   ]
  },
  {
   "cell_type": "code",
   "execution_count": 12,
   "metadata": {},
   "outputs": [],
   "source": [
    "template3 = \"Create a personalized improvement plan to address the weaknesses: \\n{weaknesses}\" \n",
    "prompt3 = HumanMessagePromptTemplate.from_template(template=template3)\n",
    "chat_prompt3 = ChatPromptTemplate.from_messages([prompt3])\n",
    "chain3 = LLMChain(llm=chat_model, prompt=chat_prompt3, output_key=\"improvement_plan\")"
   ]
  },
  {
   "cell_type": "code",
   "execution_count": 13,
   "metadata": {},
   "outputs": [],
   "source": [
    "chain = SequentialChain(chains=[chain1,chain2,chain3],\n",
    "                        input_variables=[\"review_text\"],\n",
    "                        output_variables=[\"review_summary\",\"weaknesses\",\"improvement_plan\"],\n",
    "                        verbose = True)"
   ]
  },
  {
   "cell_type": "code",
   "execution_count": 14,
   "metadata": {},
   "outputs": [],
   "source": [
    "review_text = \"\"\"\n",
    "Employee Information:\n",
    "Name: Joe Schmo\n",
    "Position: Software Engineer\n",
    "Date of Review: July 14, 2023\n",
    "\n",
    "Strengths:\n",
    "Joe is a highly skilled software engineer with a deep understanding of programming languages, algorithms, and software development best practices. His technical expertise shines through in his ability to efficiently solve complex problems and deliver high-quality code.\n",
    "\n",
    "One of Joe's greatest strengths is his collaborative nature. He actively engages with cross-functional teams, contributing valuable insights and seeking input from others. His open-mindedness and willingness to learn from colleagues make him a true team player.\n",
    "\n",
    "Joe consistently demonstrates initiative and self-motivation. He takes the lead in seeking out new projects and challenges, and his proactive attitude has led to significant improvements in existing processes and systems. His dedication to self-improvement and growth is commendable.\n",
    "\n",
    "Another notable strength is Joe's adaptability. He has shown great flexibility in handling changing project requirements and learning new technologies. This adaptability allows him to seamlessly transition between different projects and tasks, making him a valuable asset to the team.\n",
    "\n",
    "Joe's problem-solving skills are exceptional. He approaches issues with a logical mindset and consistently finds effective solutions, often thinking outside the box. His ability to break down complex problems into manageable parts is key to his success in resolving issues efficiently.\n",
    "\n",
    "Weaknesses:\n",
    "While Joe possesses numerous strengths, there are a few areas where he could benefit from improvement. One such area is time management. Occasionally, Joe struggles with effectively managing his time, resulting in missed deadlines or the need for additional support to complete tasks on time. Developing better prioritization and time management techniques would greatly enhance his efficiency.\n",
    "\n",
    "Another area for improvement is Joe's written communication skills. While he communicates well verbally, there have been instances where his written documentation lacked clarity, leading to confusion among team members. Focusing on enhancing his written communication abilities will help him effectively convey ideas and instructions.\n",
    "\n",
    "Additionally, Joe tends to take on too many responsibilities and hesitates to delegate tasks to others. This can result in an excessive workload and potential burnout. Encouraging him to delegate tasks appropriately will not only alleviate his own workload but also foster a more balanced and productive team environment.\n",
    "\"\"\""
   ]
  },
  {
   "cell_type": "code",
   "execution_count": 15,
   "metadata": {},
   "outputs": [
    {
     "name": "stdout",
     "output_type": "stream",
     "text": [
      "\n",
      "\n",
      "\u001b[1m> Entering new SequentialChain chain...\u001b[0m\n",
      "\n",
      "\u001b[1m> Finished chain.\u001b[0m\n"
     ]
    }
   ],
   "source": [
    "result = chain.invoke(review_text)"
   ]
  },
  {
   "cell_type": "code",
   "execution_count": 16,
   "metadata": {},
   "outputs": [
    {
     "name": "stdout",
     "output_type": "stream",
     "text": [
      "\n",
      "Employee Information:\n",
      "Name: Joe Schmo\n",
      "Position: Software Engineer\n",
      "Date of Review: July 14, 2023\n",
      "\n",
      "Strengths:\n",
      "Joe is a highly skilled software engineer with a deep understanding of programming languages, algorithms, and software development best practices. His technical expertise shines through in his ability to efficiently solve complex problems and deliver high-quality code.\n",
      "\n",
      "One of Joe's greatest strengths is his collaborative nature. He actively engages with cross-functional teams, contributing valuable insights and seeking input from others. His open-mindedness and willingness to learn from colleagues make him a true team player.\n",
      "\n",
      "Joe consistently demonstrates initiative and self-motivation. He takes the lead in seeking out new projects and challenges, and his proactive attitude has led to significant improvements in existing processes and systems. His dedication to self-improvement and growth is commendable.\n",
      "\n",
      "Another notable strength is Joe's adaptability. He has shown great flexibility in handling changing project requirements and learning new technologies. This adaptability allows him to seamlessly transition between different projects and tasks, making him a valuable asset to the team.\n",
      "\n",
      "Joe's problem-solving skills are exceptional. He approaches issues with a logical mindset and consistently finds effective solutions, often thinking outside the box. His ability to break down complex problems into manageable parts is key to his success in resolving issues efficiently.\n",
      "\n",
      "Weaknesses:\n",
      "While Joe possesses numerous strengths, there are a few areas where he could benefit from improvement. One such area is time management. Occasionally, Joe struggles with effectively managing his time, resulting in missed deadlines or the need for additional support to complete tasks on time. Developing better prioritization and time management techniques would greatly enhance his efficiency.\n",
      "\n",
      "Another area for improvement is Joe's written communication skills. While he communicates well verbally, there have been instances where his written documentation lacked clarity, leading to confusion among team members. Focusing on enhancing his written communication abilities will help him effectively convey ideas and instructions.\n",
      "\n",
      "Additionally, Joe tends to take on too many responsibilities and hesitates to delegate tasks to others. This can result in an excessive workload and potential burnout. Encouraging him to delegate tasks appropriately will not only alleviate his own workload but also foster a more balanced and productive team environment.\n",
      "\n"
     ]
    }
   ],
   "source": [
    "print (result[\"review_text\"])"
   ]
  },
  {
   "cell_type": "code",
   "execution_count": 17,
   "metadata": {},
   "outputs": [
    {
     "name": "stdout",
     "output_type": "stream",
     "text": [
      "Summary:\n",
      "Joe Schmo is a highly skilled and collaborative software engineer with exceptional problem-solving abilities. His strengths lie in his technical expertise, adaptability, and initiative. However, he could benefit from improving his time management and written communication skills. Additionally, encouraging him to delegate tasks more effectively would help him manage his workload and promote a healthier team dynamic. With continued development in these areas, Joe has the potential to become an even more valuable asset to the team.\n"
     ]
    }
   ],
   "source": [
    "print (result[\"review_summary\"])"
   ]
  },
  {
   "cell_type": "code",
   "execution_count": 18,
   "metadata": {},
   "outputs": [
    {
     "name": "stdout",
     "output_type": "stream",
     "text": [
      "Key weaknesses of the employee:\n",
      "\n",
      "- Time management: Joe struggles to manage his time effectively, leading to potential delays and missed deadlines.\n",
      "\n",
      "- Written communication: Joe's written communication skills need improvement to ensure clarity and conciseness in his reports, emails, and other written materials.\n",
      "\n",
      "- Delegation: Joe may need to develop his delegation skills to distribute tasks more effectively among team members, promoting a more balanced workload and fostering teamwork.\n"
     ]
    }
   ],
   "source": [
    "print (result[\"weaknesses\"])"
   ]
  },
  {
   "cell_type": "code",
   "execution_count": 19,
   "metadata": {},
   "outputs": [
    {
     "name": "stdout",
     "output_type": "stream",
     "text": [
      "**Personalized Improvement Plan for Joe**\n",
      "\n",
      "**Objective:** To address Joe's key weaknesses in time management, written communication, and delegation, enabling him to enhance his overall performance and contribute more effectively to the team's success.\n",
      "\n",
      "**1. Time Management:**\n",
      "\n",
      "- **Identify Time Wasters:** Joe should conduct a time audit to identify activities that consume excessive time and are not directly related to his core responsibilities.\n",
      "\n",
      "- **Prioritize Tasks:** He should prioritize tasks based on their importance and urgency, using techniques like the Eisenhower Matrix or the ABCDE method.\n",
      "\n",
      "- **Create a Schedule:** Joe should develop a daily or weekly schedule that outlines his tasks and allocates specific time slots for each activity.\n",
      "\n",
      "- **Set Realistic Deadlines:** He should set realistic deadlines for himself and break down larger tasks into smaller, manageable steps to avoid feeling overwhelmed.\n",
      "\n",
      "- **Utilize Time Management Tools:** Joe should explore time management tools and apps that can help him track his time, set reminders, and stay organized.\n",
      "\n",
      "**2. Written Communication:**\n",
      "\n",
      "- **Review Writing Skills:** Joe should assess his writing skills by reviewing his previous reports, emails, and other written materials.\n",
      "\n",
      "- **Identify Areas for Improvement:** He should identify areas where his writing can be improved, such as clarity, conciseness, grammar, and punctuation.\n",
      "\n",
      "- **Take Writing Courses or Workshops:** Joe should consider enrolling in writing courses or workshops to enhance his writing skills and learn effective communication techniques.\n",
      "\n",
      "- **Seek Feedback:** He should request feedback from colleagues, supervisors, or mentors on his written work to gain insights into areas that need improvement.\n",
      "\n",
      "- **Practice Active Writing:** Joe should practice active writing by using strong verbs, avoiding jargon, and keeping sentences concise and to the point.\n",
      "\n",
      "**3. Delegation:**\n",
      "\n",
      "- **Identify Delegable Tasks:** Joe should identify tasks that can be effectively delegated to team members, considering their skills, expertise, and workload.\n",
      "\n",
      "- **Communicate Expectations Clearly:** When delegating tasks, he should clearly communicate the objectives, deadlines, and expected outcomes to ensure understanding.\n",
      "\n",
      "- **Provide Necessary Resources:** Joe should ensure that team members have the necessary resources, tools, and information to successfully complete the delegated tasks.\n",
      "\n",
      "- **Monitor Progress and Offer Support:** He should regularly monitor the progress of delegated tasks and offer support and guidance as needed.\n",
      "\n",
      "- **Recognize and Appreciate Contributions:** Joe should recognize and appreciate the contributions of team members who successfully complete delegated tasks, fostering a positive and collaborative work environment.\n",
      "\n",
      "**Evaluation:**\n",
      "\n",
      "- Joe's progress will be evaluated through regular check-ins with his supervisor or mentor to assess his improvement in time management, written communication, and delegation.\n",
      "\n",
      "- Feedback from colleagues and team members will also be considered to gauge the effectiveness of his efforts and identify any additional areas for development.\n",
      "\n",
      "- Joe will be encouraged to self-reflect on his progress and identify areas where he can continue to improve his skills and contribute more effectively to the team's success.\n"
     ]
    }
   ],
   "source": [
    "print (result[\"improvement_plan\"])"
   ]
  },
  {
   "cell_type": "markdown",
   "metadata": {},
   "source": [
    "<<< End Of Document >>>"
   ]
  },
  {
   "cell_type": "code",
   "execution_count": 20,
   "metadata": {},
   "outputs": [],
   "source": [
    "from langchain_google_vertexai import VertexAI"
   ]
  },
  {
   "cell_type": "code",
   "execution_count": null,
   "metadata": {},
   "outputs": [],
   "source": []
  }
 ],
 "metadata": {
  "kernelspec": {
   "display_name": "Python 3 (ipykernel)",
   "language": "python",
   "name": "python3"
  },
  "language_info": {
   "codemirror_mode": {
    "name": "ipython",
    "version": 3
   },
   "file_extension": ".py",
   "mimetype": "text/x-python",
   "name": "python",
   "nbconvert_exporter": "python",
   "pygments_lexer": "ipython3",
   "version": "3.11.5"
  }
 },
 "nbformat": 4,
 "nbformat_minor": 2
}
